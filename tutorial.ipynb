{
 "cells": [
  {
   "cell_type": "markdown",
   "metadata": {},
   "source": [
    "# Tutorial Session on ParAMS and ASE"
   ]
  },
  {
   "cell_type": "markdown",
   "metadata": {},
   "source": [
    "## Jupyter Notebook\n",
    "[Jupyter notebook](https://jupyterlab.readthedocs.io/en/stable/) is a powerfull way to interact, document and share code (typically Python, but recently Julia and R have also become available). \n",
    "Jupyter is a project that builds on the iPython (Interactive Python).\n",
    "Jupyter works with cells, which either contain either executable code and their output or markdown style text to document.\n",
    "\n",
    "It is not really suitable for larger projects, as your code might get chaotic. \n",
    "Jupyter lacks multiple features to properly manage and test your code. \n",
    "It should therefore not be used as full-fledged IDE.\n",
    "This approach is particularly suited to quickly prototype some script, create visualizations and analysis calculations.\n",
    "\n",
    "### Installation\n",
    "The most convenient way to install jupyter notebook is through `conda`. \n",
    "Conda is a virtual environment manager and package installer that is used to separate the necessary files per project.\n",
    "It is recommended to use a new environment for every project.\n",
    "However, since Jupyter onnly needs to be installed just once (and then kernels can be added), you can install just one virtual environment with your jupyter engine and then just add kernels to it.\n",
    "1. Create a virtual environment: `conda create -n my_env python=3.6`\n",
    "2. Activate your virtual environment: `conda activate my_env`\n",
    "3. Install jupyter lab: `conda install -c conda-forge jupyterlab`\n",
    "\n",
    "You can start jupyter lab by typing `jupyter lab` in your terminal (make sure you have activated your virtual environment).\n",
    "\n",
    "### Add kernel to jupyter lab\n",
    "Now one should add the amspython kernel to our fresh install of jupyter lab.\n",
    "1. We need to install the ipython kernel package to the amspython environment: `amspython -m pip install ipykernel`\n",
    "2. Create a new kernel from amspython `amspython -m ipykernel install --user --name=amspython2021`\n",
    "\n",
    "The kernel should now be available when you start jupyter lab.\n"
   ]
  },
  {
   "cell_type": "markdown",
   "metadata": {},
   "source": [
    "## Python Crash course\n",
    "Python is a high-level, interpreted programming language, i.e. it does not require compilation whatsoever. The advantage is that your code runs immediately and is easily readable.\n",
    "The disadvantage is the computational performance. Computer intensive parts are better loaded off to (often compiled) languages that have improved performance.\n",
    "Luckily, many packages are available that can drastically speed up the execution speed. The most popular is `numpy`, that is a central point in computational computing. \n",
    "This library introduces tensors, on which computations are offloaded to highly efficient compiled code (written in C or C++).\n",
    "\n",
    "### Variables\n",
    "\n",
    "<table class=\"docutils align-default\">\n",
    "<colgroup>\n",
    "<col style=\"width: 19%\" />\n",
    "<col style=\"width: 36%\" />\n",
    "<col style=\"width: 45%\" />\n",
    "</colgroup>\n",
    "<thead>\n",
    "<tr class=\"row-odd\"><th class=\"head\"><p>type</p></th>\n",
    "<th class=\"head\"><p>description</p></th>\n",
    "<th class=\"head\"><p>example</p></th>\n",
    "</tr>\n",
    "</thead>\n",
    "<tbody>\n",
    "<tr class=\"row-even\"><td><p><code class=\"docutils literal notranslate\"><span class=\"pre\">bool</span></code></p></td>\n",
    "<td><p>boolean</p></td>\n",
    "<td><p><code class=\"docutils literal notranslate\"><span class=\"pre\">False</span></code></p></td>\n",
    "</tr>\n",
    "<tr class=\"row-odd\"><td><p><code class=\"docutils literal notranslate\"><span class=\"pre\">int</span></code></p></td>\n",
    "<td><p>integer</p></td>\n",
    "<td><p><code class=\"docutils literal notranslate\"><span class=\"pre\">117</span></code></p></td>\n",
    "</tr>\n",
    "<tr class=\"row-even\"><td><p><code class=\"docutils literal notranslate\"><span class=\"pre\">float</span></code></p></td>\n",
    "<td><p>floating point number</p></td>\n",
    "<td><p><code class=\"docutils literal notranslate\"><span class=\"pre\">1.78</span></code></p></td>\n",
    "</tr>\n",
    "<tr class=\"row-odd\"><td><p><code class=\"docutils literal notranslate\"><span class=\"pre\">complex</span></code></p></td>\n",
    "<td><p>complex number</p></td>\n",
    "<td><p><code class=\"docutils literal notranslate\"><span class=\"pre\">0.5</span> <span class=\"pre\">+</span> <span class=\"pre\">2.0j</span></code></p></td>\n",
    "</tr>\n",
    "<tr class=\"row-even\"><td><p><code class=\"docutils literal notranslate\"><span class=\"pre\">str</span></code></p></td>\n",
    "<td><p>string</p></td>\n",
    "<td><p><code class=\"docutils literal notranslate\"><span class=\"pre\">'abc'</span></code></p></td>\n",
    "</tr>\n",
    "<tr class=\"row-odd\"><td><p><code class=\"docutils literal notranslate\"><span class=\"pre\">tuple</span></code></p></td>\n",
    "<td><p>tuple</p></td>\n",
    "<td><p><code class=\"docutils literal notranslate\"><span class=\"pre\">(1,</span> <span class=\"pre\">'hmm',</span> <span class=\"pre\">2.0)</span></code></p></td>\n",
    "</tr>\n",
    "<tr class=\"row-even\"><td><p><code class=\"docutils literal notranslate\"><span class=\"pre\">list</span></code></p></td>\n",
    "<td><p>list</p></td>\n",
    "<td><p><code class=\"docutils literal notranslate\"><span class=\"pre\">[1,</span> <span class=\"pre\">'hmm',</span> <span class=\"pre\">2.0]</span></code></p></td>\n",
    "</tr>\n",
    "<tr class=\"row-odd\"><td><p><code class=\"docutils literal notranslate\"><span class=\"pre\">dict</span></code></p></td>\n",
    "<td><p>dictionary</p></td>\n",
    "<td><p><code class=\"docutils literal notranslate\"><span class=\"pre\">{'a':</span> <span class=\"pre\">7.0,</span> <span class=\"pre\">23:</span> <span class=\"pre\">True}</span></code></p></td>\n",
    "</tr>\n",
    "</tbody>\n",
    "</table>"
   ]
  },
  {
   "cell_type": "code",
   "execution_count": 1,
   "metadata": {},
   "outputs": [
    {
     "name": "stdout",
     "output_type": "stream",
     "text": [
      "5\n",
      "hello world\n",
      "[1, 2, 3]\n",
      "{'a': 1, 'b': 2}\n"
     ]
    }
   ],
   "source": [
    "x = 5\n",
    "print(x)\n",
    "\n",
    "y = 'hello world'\n",
    "print(y)\n",
    "\n",
    "list_example = [1,2,3]\n",
    "print(list_example)\n",
    "\n",
    "dict_example = {'a':1, 'b':2}\n",
    "print(dict_example)"
   ]
  },
  {
   "cell_type": "code",
   "execution_count": 2,
   "metadata": {},
   "outputs": [
    {
     "data": {
      "text/plain": [
       "25"
      ]
     },
     "execution_count": 2,
     "metadata": {},
     "output_type": "execute_result"
    }
   ],
   "source": [
    "5 * 5"
   ]
  },
  {
   "cell_type": "code",
   "execution_count": 3,
   "metadata": {},
   "outputs": [],
   "source": [
    "x=3"
   ]
  },
  {
   "cell_type": "markdown",
   "metadata": {},
   "source": [
    "### Operations"
   ]
  },
  {
   "cell_type": "code",
   "execution_count": 4,
   "metadata": {},
   "outputs": [
    {
     "name": "stdout",
     "output_type": "stream",
     "text": [
      "11\n",
      "-1\n",
      "30\n",
      "15625\n",
      "5\n"
     ]
    }
   ],
   "source": [
    "x = 5\n",
    "y = 6\n",
    "\n",
    "# addition\n",
    "print(x + y)\n",
    "\n",
    "# substraction\n",
    "print(x - y)\n",
    "\n",
    "# multiplication\n",
    "print(x*y)\n",
    "\n",
    "# exponential\n",
    "print(x**y)\n",
    "\n",
    "# modulus\n",
    "print(x%y)"
   ]
  },
  {
   "cell_type": "markdown",
   "metadata": {},
   "source": [
    "### Functions\n",
    "To reuse code, it recommended to order them. The most convenient are functions:\n"
   ]
  },
  {
   "cell_type": "code",
   "execution_count": 5,
   "metadata": {},
   "outputs": [],
   "source": [
    "def multiplication(x, y):\n",
    "    result = x*y\n",
    "    return result"
   ]
  },
  {
   "cell_type": "code",
   "execution_count": 6,
   "metadata": {},
   "outputs": [
    {
     "name": "stdout",
     "output_type": "stream",
     "text": [
      "50\n",
      "6\n"
     ]
    }
   ],
   "source": [
    "print(multiplication(5,10))\n",
    "print(multiplication(3,2))"
   ]
  },
  {
   "cell_type": "markdown",
   "metadata": {},
   "source": [
    "Python also introduces object-oriented approaches with classes. Many libraries use this as it allows to manage code more efficiently. However, it is a bit outside the scope here"
   ]
  },
  {
   "cell_type": "markdown",
   "metadata": {},
   "source": [
    "## PLAMS and ParAMS\n",
    "PLAMS and ParAMS come automatically with amspython. You can verify that they are accessible by importing them.\n",
    "The following code imports all modules available within `plams` and `params`. There are quite some modules, so importing takes a little while.\n",
    "\n",
    "**PLAMS** is aimed to automate the workflow of AMS through python.\n",
    "\n",
    "**ParAMS** is aimed to take care of all optimization workflows within AMS. It strongly builds on PLAMS.\n",
    "\n",
    "Do note that for PLAMS and ParAMS, the documentation is your friend at [scm.com](https://www.scm.com/doc/plams/)"
   ]
  },
  {
   "cell_type": "code",
   "execution_count": 7,
   "metadata": {},
   "outputs": [],
   "source": [
    "from scm.plams import *\n",
    "from scm.params import *\n",
    "\n",
    "import os"
   ]
  },
  {
   "cell_type": "markdown",
   "metadata": {},
   "source": [
    "To define a single job to run, one needs to set some settings. This is done through the `Settings` object. These objects contain all the configurations that are necessary to run a calculation using an AMS engine. For example, to setup a geometryoptimization with 50 iterations using the FIRE algorithm is readily done."
   ]
  },
  {
   "cell_type": "code",
   "execution_count": 8,
   "metadata": {},
   "outputs": [
    {
     "name": "stdout",
     "output_type": "stream",
     "text": [
      "input: \t\n",
      "      ams: \t\n",
      "          Task: \tgeometryoptimization\n",
      "          geometryoptimization: \t\n",
      "                               Method: \tFIRE\n",
      "                               pretendconverged: \tFalse\n",
      "                               maxiterations: \t300\n",
      "      reaxff: \t\n",
      "             forcefield: \t/work/dumortil/Documents/meetings/20220321_visitGhent/tutorials_params_glompo/ff1_v2\n",
      "\n"
     ]
    }
   ],
   "source": [
    "s = Settings()\n",
    "s.input.ams.Task = 'geometryoptimization'\n",
    "s.input.ams.geometryoptimization.Method = 'FIRE'\n",
    "s.input.ams.geometryoptimization.pretendconverged = False\n",
    "s.input.ams.geometryoptimization.maxiterations = 300\n",
    "\n",
    "s.input.reaxff.forcefield = os.path.join(os.getcwd(),'ff1_v2')\n",
    "print(s)"
   ]
  },
  {
   "cell_type": "code",
   "execution_count": 84,
   "metadata": {},
   "outputs": [],
   "source": [
    "os.chdir('/work/dumortil/Documents/meetings/20220321_visitGhent/tutorials_params_glompo')"
   ]
  },
  {
   "cell_type": "code",
   "execution_count": 85,
   "metadata": {},
   "outputs": [
    {
     "data": {
      "text/plain": [
       "'/work/dumortil/Documents/meetings/20220321_visitGhent/tutorials_params_glompo/CONTCAR'"
      ]
     },
     "execution_count": 85,
     "metadata": {},
     "output_type": "execute_result"
    }
   ],
   "source": [
    "os.path.join(os.getcwd(),'CONTCAR')"
   ]
  },
  {
   "cell_type": "markdown",
   "metadata": {},
   "source": [
    "You can then start building a single job using `AMSJob`"
   ]
  },
  {
   "cell_type": "code",
   "execution_count": 94,
   "metadata": {},
   "outputs": [
    {
     "name": "stdout",
     "output_type": "stream",
     "text": [
      "[21.03|17:23:03] PLAMS working folder: /work/dumortil/Documents/meetings/20220321_visitGhent/tutorials_params_glompo/plams_workdir.006\n",
      "[21.03|17:23:03] JOB myfirstjob STARTED\n",
      "[21.03|17:23:03] JOB myfirstjob RUNNING\n",
      "[21.03|17:23:07] JOB myfirstjob FINISHED\n",
      "[21.03|17:23:07] JOB myfirstjob SUCCESSFUL\n",
      "[21.03|17:23:07] PLAMS run finished. Goodbye\n"
     ]
    }
   ],
   "source": [
    "molecule = Molecule('CONTCAR', inputformat='ase', format='vasp')\n",
    "job = AMSJob(name='myfirstjob', settings=s, molecule=molecule)\n",
    "\n",
    "init() #you must always call this\n",
    "job.run()\n",
    "finish() #you must always call this"
   ]
  },
  {
   "cell_type": "code",
   "execution_count": 12,
   "metadata": {},
   "outputs": [],
   "source": [
    "testjobcollection = JobCollection()"
   ]
  },
  {
   "cell_type": "code",
   "execution_count": 13,
   "metadata": {},
   "outputs": [
    {
     "ename": "TypeError",
     "evalue": "add_entry() missing 1 required positional argument: 'entry'",
     "output_type": "error",
     "traceback": [
      "\u001b[0;31m---------------------------------------------------------------------------\u001b[0m",
      "\u001b[0;31mTypeError\u001b[0m                                 Traceback (most recent call last)",
      "\u001b[0;32m<ipython-input-13-1ea3b20346ba>\u001b[0m in \u001b[0;36m<module>\u001b[0;34m()\u001b[0m\n\u001b[0;32m----> 1\u001b[0;31m \u001b[0mtestjobcollection\u001b[0m\u001b[0;34m.\u001b[0m\u001b[0madd_entry\u001b[0m\u001b[0;34m(\u001b[0m\u001b[0mjob\u001b[0m\u001b[0;34m)\u001b[0m\u001b[0;34m\u001b[0m\u001b[0;34m\u001b[0m\u001b[0m\n\u001b[0m",
      "\u001b[0;31mTypeError\u001b[0m: add_entry() missing 1 required positional argument: 'entry'"
     ]
    }
   ],
   "source": [
    "testjobcollection.add_entry(job)"
   ]
  },
  {
   "cell_type": "markdown",
   "metadata": {},
   "source": [
    "### Reparametrizing a Force Field"
   ]
  },
  {
   "cell_type": "markdown",
   "metadata": {},
   "source": [
    "The **JobCollection** is used to represent the task that is supposed to run. It basically contains a multitude of single plams jobs. You can use `JC = geo_to_params(geofile ,normal_run_settings=s)` with a geofile and a settings object to convert your geofile to a JobCollection with the corresponding settings. This process is quite intensive, so it is better to store it as a yaml file, which reads in much faster. This can be done using `JC.store('jobcollection.yaml')`."
   ]
  },
  {
   "cell_type": "code",
   "execution_count": 14,
   "metadata": {},
   "outputs": [],
   "source": [
    "JC = JobCollection('jobcollection.yaml')"
   ]
  },
  {
   "cell_type": "markdown",
   "metadata": {},
   "source": [
    "A **DataSet** is used to store properties of different molecules. In other words, this is used to store the reference potentials i.e. training set."
   ]
  },
  {
   "cell_type": "code",
   "execution_count": 19,
   "metadata": {},
   "outputs": [],
   "source": [
    "DS = DataSet('trainingset_absorption_energies.yaml')"
   ]
  },
  {
   "cell_type": "code",
   "execution_count": 25,
   "metadata": {},
   "outputs": [],
   "source": [
    "DS.store('testdataset.yaml')"
   ]
  },
  {
   "cell_type": "code",
   "execution_count": 32,
   "metadata": {},
   "outputs": [],
   "source": [
    "for entry in DS:\n",
    "    if 'angles' in entry.expression:\n",
    "        entry.sigma = 3\n",
    "        "
   ]
  },
  {
   "cell_type": "markdown",
   "metadata": {},
   "source": [
    "Lastly, the final element for the optimization is the **force field** that must be read in. You can then access the activated parameters using `param.is_active`"
   ]
  },
  {
   "cell_type": "code",
   "execution_count": 36,
   "metadata": {},
   "outputs": [],
   "source": [
    "FF = ReaxParams(os.path.join(os.getcwd(),'ff1_v2'))"
   ]
  },
  {
   "cell_type": "code",
   "execution_count": 37,
   "metadata": {},
   "outputs": [
    {
     "data": {
      "text/plain": [
       "2551"
      ]
     },
     "execution_count": 37,
     "metadata": {},
     "output_type": "execute_result"
    }
   ],
   "source": [
    "len(FF.active)"
   ]
  },
  {
   "cell_type": "code",
   "execution_count": 71,
   "metadata": {
    "tags": []
   },
   "outputs": [
    {
     "name": "stdout",
     "output_type": "stream",
     "text": [
      "Total Parameters:  3012\n",
      "Total Active:  0\n"
     ]
    }
   ],
   "source": [
    "for param in FF:\n",
    "    param.is_active = False\n",
    "\n",
    "print('Total Parameters: ', len(FF))\n",
    "print('Total Active: ', len(FF.active))"
   ]
  },
  {
   "cell_type": "code",
   "execution_count": 72,
   "metadata": {},
   "outputs": [],
   "source": [
    "for param in FF:\n",
    "    if len(param.atoms) == 1:\n",
    "        if param.atoms == ['H']:\n",
    "            param.is_active = True"
   ]
  },
  {
   "cell_type": "code",
   "execution_count": 73,
   "metadata": {},
   "outputs": [
    {
     "name": "stdout",
     "output_type": "stream",
     "text": [
      "Total Active:  32\n"
     ]
    }
   ],
   "source": [
    "print('Total Active: ', len(FF.active))"
   ]
  },
  {
   "cell_type": "code",
   "execution_count": 74,
   "metadata": {},
   "outputs": [
    {
     "data": {
      "text/plain": [
       "'O.H.O:-p_hb3'"
      ]
     },
     "execution_count": 74,
     "metadata": {},
     "output_type": "execute_result"
    }
   ],
   "source": [
    "param.name"
   ]
  },
  {
   "cell_type": "code",
   "execution_count": 75,
   "metadata": {},
   "outputs": [],
   "source": [
    "param.is_active = True"
   ]
  },
  {
   "cell_type": "markdown",
   "metadata": {},
   "source": [
    "You can then setup an optimization. For this, you must first select which optimizer you want, and you typically also want to add some criteria to finish the calculation. In this case, we'll just use a time criteria to stop the optimization. We'll setup a CMAOptimizer to optimize the force field parameters."
   ]
  },
  {
   "cell_type": "code",
   "execution_count": 76,
   "metadata": {},
   "outputs": [],
   "source": [
    "callbacks = [Timeout(60*60*5), Logger(), EarlyStopping(30)] # Optimize for a total of 5 min. Adjust this if the results are bad and you have time\n",
    "optimizer = CMAOptimizer(popsize=10, sigma=0.01, cma_elitist = True, verbose = False)"
   ]
  },
  {
   "cell_type": "markdown",
   "metadata": {},
   "source": [
    "Lastly, We build the **optimization** object by combining all the previous information."
   ]
  },
  {
   "cell_type": "code",
   "execution_count": 77,
   "metadata": {},
   "outputs": [
    {
     "name": "stdout",
     "output_type": "stream",
     "text": [
      "[2022-03-21 17:13:46]  Starting parameter optimization. Dim = 33\n"
     ]
    },
    {
     "ename": "AttributeError",
     "evalue": "module 'yaml' has no attribute 'CDumper'",
     "output_type": "error",
     "traceback": [
      "\u001b[0;31m---------------------------------------------------------------------------\u001b[0m",
      "\u001b[0;31mAttributeError\u001b[0m                            Traceback (most recent call last)",
      "\u001b[0;32m<ipython-input-77-108d4bb53a9a>\u001b[0m in \u001b[0;36m<module>\u001b[0;34m()\u001b[0m\n\u001b[1;32m      1\u001b[0m \u001b[0moptim\u001b[0m \u001b[0;34m=\u001b[0m \u001b[0mOptimization\u001b[0m\u001b[0;34m(\u001b[0m\u001b[0mjob_collection\u001b[0m\u001b[0;34m=\u001b[0m\u001b[0mJC\u001b[0m\u001b[0;34m,\u001b[0m \u001b[0mdata_sets\u001b[0m\u001b[0;34m=\u001b[0m\u001b[0mDS\u001b[0m\u001b[0;34m,\u001b[0m \u001b[0mparameter_interface\u001b[0m\u001b[0;34m=\u001b[0m\u001b[0mFF\u001b[0m\u001b[0;34m,\u001b[0m \u001b[0moptimizer\u001b[0m\u001b[0;34m=\u001b[0m\u001b[0moptimizer\u001b[0m\u001b[0;34m,\u001b[0m \u001b[0mskip_x0\u001b[0m\u001b[0;34m=\u001b[0m\u001b[0;32mTrue\u001b[0m\u001b[0;34m,\u001b[0m \u001b[0mcallbacks\u001b[0m\u001b[0;34m=\u001b[0m\u001b[0mcallbacks\u001b[0m\u001b[0;34m)\u001b[0m\u001b[0;34m\u001b[0m\u001b[0;34m\u001b[0m\u001b[0m\n\u001b[0;32m----> 2\u001b[0;31m \u001b[0mv\u001b[0m \u001b[0;34m=\u001b[0m \u001b[0moptim\u001b[0m\u001b[0;34m.\u001b[0m\u001b[0moptimize\u001b[0m\u001b[0;34m(\u001b[0m\u001b[0;34m)\u001b[0m\u001b[0;34m\u001b[0m\u001b[0;34m\u001b[0m\u001b[0m\n\u001b[0m",
      "\u001b[0;32m~/ams2021.207.r99676/scripting/scm/params/core/parameteroptimization.py\u001b[0m in \u001b[0;36moptimize\u001b[0;34m(self)\u001b[0m\n\u001b[1;32m    228\u001b[0m         \u001b[0mos\u001b[0m\u001b[0;34m.\u001b[0m\u001b[0mmakedirs\u001b[0m\u001b[0;34m(\u001b[0m\u001b[0midir\u001b[0m\u001b[0;34m,\u001b[0m \u001b[0mexist_ok\u001b[0m\u001b[0;34m=\u001b[0m\u001b[0;32mTrue\u001b[0m\u001b[0;34m)\u001b[0m\u001b[0;34m\u001b[0m\u001b[0;34m\u001b[0m\u001b[0m\n\u001b[1;32m    229\u001b[0m         \u001b[0;31m#self.interface.pickle_dump(opj(idir, 'initial_parameter_interface.pkl'))  # Pickled instance can be used to restore the problem (bounds, active)\u001b[0m\u001b[0;34m\u001b[0m\u001b[0;34m\u001b[0m\u001b[0;34m\u001b[0m\u001b[0m\n\u001b[0;32m--> 230\u001b[0;31m         \u001b[0mself\u001b[0m\u001b[0;34m.\u001b[0m\u001b[0minterface\u001b[0m\u001b[0;34m.\u001b[0m\u001b[0myaml_store\u001b[0m\u001b[0;34m(\u001b[0m\u001b[0mopj\u001b[0m\u001b[0;34m(\u001b[0m\u001b[0midir\u001b[0m\u001b[0;34m,\u001b[0m \u001b[0;34m'initial_parameter_interface.yaml'\u001b[0m\u001b[0;34m)\u001b[0m\u001b[0;34m)\u001b[0m\u001b[0;34m\u001b[0m\u001b[0;34m\u001b[0m\u001b[0m\n\u001b[0m\u001b[1;32m    231\u001b[0m         \u001b[0;31m#self.job_collection.pickle_dump(opj(idir, 'job_collection.pkl.gz'))\u001b[0m\u001b[0;34m\u001b[0m\u001b[0;34m\u001b[0m\u001b[0;34m\u001b[0m\u001b[0m\n\u001b[1;32m    232\u001b[0m         \u001b[0mself\u001b[0m\u001b[0;34m.\u001b[0m\u001b[0mjob_collection\u001b[0m\u001b[0;34m.\u001b[0m\u001b[0mstore\u001b[0m\u001b[0;34m(\u001b[0m\u001b[0mopj\u001b[0m\u001b[0;34m(\u001b[0m\u001b[0midir\u001b[0m\u001b[0;34m,\u001b[0m \u001b[0;34m'job_collection.yaml.gz'\u001b[0m\u001b[0;34m)\u001b[0m\u001b[0;34m)\u001b[0m\u001b[0;34m\u001b[0m\u001b[0;34m\u001b[0m\u001b[0m\n",
      "\u001b[0;32m~/ams2021.207.r99676/scripting/scm/params/parameterinterfaces/base.py\u001b[0m in \u001b[0;36myaml_store\u001b[0;34m(self, yamlfile)\u001b[0m\n\u001b[1;32m    573\u001b[0m         \u001b[0;32melse\u001b[0m\u001b[0;34m:\u001b[0m\u001b[0;34m\u001b[0m\u001b[0;34m\u001b[0m\u001b[0m\n\u001b[1;32m    574\u001b[0m             \u001b[0;32mwith\u001b[0m \u001b[0mopen\u001b[0m\u001b[0;34m(\u001b[0m\u001b[0myamlfile\u001b[0m\u001b[0;34m,\u001b[0m \u001b[0;34m'w'\u001b[0m\u001b[0;34m)\u001b[0m \u001b[0;32mas\u001b[0m \u001b[0mstream\u001b[0m\u001b[0;34m:\u001b[0m\u001b[0;34m\u001b[0m\u001b[0;34m\u001b[0m\u001b[0m\n\u001b[0;32m--> 575\u001b[0;31m                 \u001b[0mstream\u001b[0m\u001b[0;34m.\u001b[0m\u001b[0mwrite\u001b[0m\u001b[0;34m(\u001b[0m\u001b[0mstr\u001b[0m\u001b[0;34m(\u001b[0m\u001b[0mself\u001b[0m\u001b[0;34m)\u001b[0m\u001b[0;34m)\u001b[0m\u001b[0;34m\u001b[0m\u001b[0;34m\u001b[0m\u001b[0m\n\u001b[0m\u001b[1;32m    576\u001b[0m \u001b[0;34m\u001b[0m\u001b[0m\n\u001b[1;32m    577\u001b[0m     \u001b[0;34m@\u001b[0m\u001b[0mclassmethod\u001b[0m\u001b[0;34m\u001b[0m\u001b[0;34m\u001b[0m\u001b[0m\n",
      "\u001b[0;32m~/ams2021.207.r99676/scripting/scm/params/parameterinterfaces/base.py\u001b[0m in \u001b[0;36m__str__\u001b[0;34m(self)\u001b[0m\n\u001b[1;32m    372\u001b[0m     \u001b[0;32mdef\u001b[0m \u001b[0m__str__\u001b[0m\u001b[0;34m(\u001b[0m\u001b[0mself\u001b[0m\u001b[0;34m)\u001b[0m\u001b[0;34m:\u001b[0m\u001b[0;34m\u001b[0m\u001b[0;34m\u001b[0m\u001b[0m\n\u001b[1;32m    373\u001b[0m         \u001b[0;34m\"\"\" String representation of self \"\"\"\u001b[0m\u001b[0;34m\u001b[0m\u001b[0;34m\u001b[0m\u001b[0m\n\u001b[0;32m--> 374\u001b[0;31m         \u001b[0mheader\u001b[0m \u001b[0;34m=\u001b[0m \u001b[0;34m'---\\n'\u001b[0m \u001b[0;34m+\u001b[0m \u001b[0myaml\u001b[0m\u001b[0;34m.\u001b[0m\u001b[0mdump\u001b[0m\u001b[0;34m(\u001b[0m\u001b[0mself\u001b[0m\u001b[0;34m.\u001b[0m\u001b[0mheader\u001b[0m\u001b[0;34m,\u001b[0m \u001b[0mdefault_flow_style\u001b[0m\u001b[0;34m=\u001b[0m\u001b[0;32mFalse\u001b[0m\u001b[0;34m,\u001b[0m \u001b[0mDumper\u001b[0m\u001b[0;34m=\u001b[0m\u001b[0myaml\u001b[0m\u001b[0;34m.\u001b[0m\u001b[0mCDumper\u001b[0m\u001b[0;34m)\u001b[0m\u001b[0;34m\u001b[0m\u001b[0;34m\u001b[0m\u001b[0m\n\u001b[0m\u001b[1;32m    375\u001b[0m         \u001b[0;32mreturn\u001b[0m \u001b[0mheader\u001b[0m \u001b[0;34m+\u001b[0m \u001b[0;34m'---\\n'\u001b[0m \u001b[0;34m+\u001b[0m \u001b[0;34m'---\\n'\u001b[0m\u001b[0;34m.\u001b[0m\u001b[0mjoin\u001b[0m\u001b[0;34m(\u001b[0m\u001b[0mstr\u001b[0m\u001b[0;34m(\u001b[0m\u001b[0me\u001b[0m\u001b[0;34m)\u001b[0m \u001b[0;32mfor\u001b[0m \u001b[0me\u001b[0m \u001b[0;32min\u001b[0m \u001b[0mself\u001b[0m\u001b[0;34m)\u001b[0m \u001b[0;34m+\u001b[0m \u001b[0;34m'...'\u001b[0m\u001b[0;34m\u001b[0m\u001b[0;34m\u001b[0m\u001b[0m\n\u001b[1;32m    376\u001b[0m \u001b[0;34m\u001b[0m\u001b[0m\n",
      "\u001b[0;31mAttributeError\u001b[0m: module 'yaml' has no attribute 'CDumper'"
     ]
    }
   ],
   "source": [
    "optim = Optimization(job_collection=JC, data_sets=DS, parameter_interface=FF, optimizer=optimizer, skip_x0=True, callbacks=callbacks)\n",
    "v = optim.optimize()"
   ]
  },
  {
   "cell_type": "markdown",
   "metadata": {},
   "source": [
    "## Atomic Simulation Environment\n",
    "The [Atomic Simulation Environment](https://wiki.fysik.dtu.dk/ase/about.html), or `ase` is already available in amspython so it can be readily imported. Import to note is that ASE also provides GUI's and command line interfaces. However, for large scale conversions, calculations and automation the python interface is prefered. Here we will focus on the usage of input-output conversion, although ASE provides many functionalities."
   ]
  },
  {
   "cell_type": "markdown",
   "metadata": {},
   "source": [
    "### input"
   ]
  },
  {
   "cell_type": "code",
   "execution_count": 78,
   "metadata": {},
   "outputs": [],
   "source": [
    "from ase import io"
   ]
  },
  {
   "cell_type": "code",
   "execution_count": 79,
   "metadata": {},
   "outputs": [
    {
     "ename": "FileNotFoundError",
     "evalue": "[Errno 2] No such file or directory: 'CONTCAR'",
     "output_type": "error",
     "traceback": [
      "\u001b[0;31m---------------------------------------------------------------------------\u001b[0m",
      "\u001b[0;31mFileNotFoundError\u001b[0m                         Traceback (most recent call last)",
      "\u001b[0;32m<ipython-input-79-2095d00d366d>\u001b[0m in \u001b[0;36m<module>\u001b[0;34m()\u001b[0m\n\u001b[1;32m      1\u001b[0m \u001b[0;31m# Reading in molecules from the CONTCAR files is very simple\u001b[0m\u001b[0;34m\u001b[0m\u001b[0;34m\u001b[0m\u001b[0;34m\u001b[0m\u001b[0m\n\u001b[0;32m----> 2\u001b[0;31m \u001b[0mmolecule\u001b[0m \u001b[0;34m=\u001b[0m \u001b[0mio\u001b[0m\u001b[0;34m.\u001b[0m\u001b[0mread\u001b[0m\u001b[0;34m(\u001b[0m\u001b[0;34m'CONTCAR'\u001b[0m\u001b[0;34m)\u001b[0m\u001b[0;34m\u001b[0m\u001b[0;34m\u001b[0m\u001b[0m\n\u001b[0m\u001b[1;32m      3\u001b[0m \u001b[0mprint\u001b[0m\u001b[0;34m(\u001b[0m\u001b[0mmolecule\u001b[0m\u001b[0;34m)\u001b[0m\u001b[0;34m\u001b[0m\u001b[0;34m\u001b[0m\u001b[0m\n",
      "\u001b[0;32m~/ams2021.207.r99676/bin/python3.6/lib/python3.6/site-packages/ase/io/formats.py\u001b[0m in \u001b[0;36mread\u001b[0;34m(filename, index, format, parallel, **kwargs)\u001b[0m\n\u001b[1;32m    603\u001b[0m     \u001b[0;32melse\u001b[0m\u001b[0;34m:\u001b[0m\u001b[0;34m\u001b[0m\u001b[0;34m\u001b[0m\u001b[0m\n\u001b[1;32m    604\u001b[0m         return next(_iread(filename, slice(index, None), format, io,\n\u001b[0;32m--> 605\u001b[0;31m                            parallel=parallel, **kwargs))\n\u001b[0m\u001b[1;32m    606\u001b[0m \u001b[0;34m\u001b[0m\u001b[0m\n\u001b[1;32m    607\u001b[0m \u001b[0;34m\u001b[0m\u001b[0m\n",
      "\u001b[0;32m~/ams2021.207.r99676/bin/python3.6/lib/python3.6/site-packages/ase/parallel.py\u001b[0m in \u001b[0;36mnew_generator\u001b[0;34m(*args, **kwargs)\u001b[0m\n\u001b[1;32m    262\u001b[0m             not kwargs.pop('parallel', True)):\n\u001b[1;32m    263\u001b[0m             \u001b[0;31m# Disable:\u001b[0m\u001b[0;34m\u001b[0m\u001b[0;34m\u001b[0m\u001b[0;34m\u001b[0m\u001b[0m\n\u001b[0;32m--> 264\u001b[0;31m             \u001b[0;32mfor\u001b[0m \u001b[0mresult\u001b[0m \u001b[0;32min\u001b[0m \u001b[0mgenerator\u001b[0m\u001b[0;34m(\u001b[0m\u001b[0;34m*\u001b[0m\u001b[0margs\u001b[0m\u001b[0;34m,\u001b[0m \u001b[0;34m**\u001b[0m\u001b[0mkwargs\u001b[0m\u001b[0;34m)\u001b[0m\u001b[0;34m:\u001b[0m\u001b[0;34m\u001b[0m\u001b[0;34m\u001b[0m\u001b[0m\n\u001b[0m\u001b[1;32m    265\u001b[0m                 \u001b[0;32myield\u001b[0m \u001b[0mresult\u001b[0m\u001b[0;34m\u001b[0m\u001b[0;34m\u001b[0m\u001b[0m\n\u001b[1;32m    266\u001b[0m             \u001b[0;32mreturn\u001b[0m\u001b[0;34m\u001b[0m\u001b[0;34m\u001b[0m\u001b[0m\n",
      "\u001b[0;32m~/ams2021.207.r99676/bin/python3.6/lib/python3.6/site-packages/ase/io/formats.py\u001b[0m in \u001b[0;36m_iread\u001b[0;34m(filename, index, format, io, parallel, full_output, **kwargs)\u001b[0m\n\u001b[1;32m    651\u001b[0m         \u001b[0;32mif\u001b[0m \u001b[0mio\u001b[0m\u001b[0;34m.\u001b[0m\u001b[0macceptsfd\u001b[0m\u001b[0;34m:\u001b[0m\u001b[0;34m\u001b[0m\u001b[0;34m\u001b[0m\u001b[0m\n\u001b[1;32m    652\u001b[0m             \u001b[0mmode\u001b[0m \u001b[0;34m=\u001b[0m \u001b[0;34m'rb'\u001b[0m \u001b[0;32mif\u001b[0m \u001b[0mio\u001b[0m\u001b[0;34m.\u001b[0m\u001b[0misbinary\u001b[0m \u001b[0;32melse\u001b[0m \u001b[0;34m'r'\u001b[0m\u001b[0;34m\u001b[0m\u001b[0;34m\u001b[0m\u001b[0m\n\u001b[0;32m--> 653\u001b[0;31m             \u001b[0mfd\u001b[0m \u001b[0;34m=\u001b[0m \u001b[0mopen_with_compression\u001b[0m\u001b[0;34m(\u001b[0m\u001b[0mfilename\u001b[0m\u001b[0;34m,\u001b[0m \u001b[0mmode\u001b[0m\u001b[0;34m)\u001b[0m\u001b[0;34m\u001b[0m\u001b[0;34m\u001b[0m\u001b[0m\n\u001b[0m\u001b[1;32m    654\u001b[0m             \u001b[0mmust_close_fd\u001b[0m \u001b[0;34m=\u001b[0m \u001b[0;32mTrue\u001b[0m\u001b[0;34m\u001b[0m\u001b[0;34m\u001b[0m\u001b[0m\n\u001b[1;32m    655\u001b[0m         \u001b[0;32melse\u001b[0m\u001b[0;34m:\u001b[0m\u001b[0;34m\u001b[0m\u001b[0;34m\u001b[0m\u001b[0m\n",
      "\u001b[0;32m~/ams2021.207.r99676/bin/python3.6/lib/python3.6/site-packages/ase/io/formats.py\u001b[0m in \u001b[0;36mopen_with_compression\u001b[0;34m(filename, mode)\u001b[0m\n\u001b[1;32m    429\u001b[0m \u001b[0;34m\u001b[0m\u001b[0m\n\u001b[1;32m    430\u001b[0m     \u001b[0;32mif\u001b[0m \u001b[0mcompression\u001b[0m \u001b[0;32mis\u001b[0m \u001b[0;32mNone\u001b[0m\u001b[0;34m:\u001b[0m\u001b[0;34m\u001b[0m\u001b[0;34m\u001b[0m\u001b[0m\n\u001b[0;32m--> 431\u001b[0;31m         \u001b[0;32mreturn\u001b[0m \u001b[0mopen\u001b[0m\u001b[0;34m(\u001b[0m\u001b[0mfilename\u001b[0m\u001b[0;34m,\u001b[0m \u001b[0mmode\u001b[0m\u001b[0;34m)\u001b[0m\u001b[0;34m\u001b[0m\u001b[0;34m\u001b[0m\u001b[0m\n\u001b[0m\u001b[1;32m    432\u001b[0m     \u001b[0;32melif\u001b[0m \u001b[0mcompression\u001b[0m \u001b[0;34m==\u001b[0m \u001b[0;34m'gz'\u001b[0m\u001b[0;34m:\u001b[0m\u001b[0;34m\u001b[0m\u001b[0;34m\u001b[0m\u001b[0m\n\u001b[1;32m    433\u001b[0m         \u001b[0;32mimport\u001b[0m \u001b[0mgzip\u001b[0m\u001b[0;34m\u001b[0m\u001b[0;34m\u001b[0m\u001b[0m\n",
      "\u001b[0;31mFileNotFoundError\u001b[0m: [Errno 2] No such file or directory: 'CONTCAR'"
     ]
    }
   ],
   "source": [
    "# Reading in molecules from the CONTCAR files is very simple\n",
    "molecule = io.read('CONTCAR')\n",
    "print(molecule)"
   ]
  },
  {
   "cell_type": "code",
   "execution_count": 3,
   "metadata": {},
   "outputs": [
    {
     "name": "stdout",
     "output_type": "stream",
     "text": [
      "Atoms(symbols='H96Al48O120', pbc=True, cell=[[0.0, 11.945414, 0.0], [0.0, 0.0, 14.916908], [22.233491, 0.0, 0.0]], calculator=SinglePointDFTCalculator(...))\n"
     ]
    }
   ],
   "source": [
    "# You can also read in the results from the OUTCAR File:\n",
    "calculation_results = io.read('OUTCAR')\n",
    "print(calculation_results)"
   ]
  },
  {
   "cell_type": "code",
   "execution_count": 13,
   "metadata": {},
   "outputs": [
    {
     "data": {
      "text/plain": [
       "array([[1.358060e+00, 8.021860e+00, 9.576500e-01],\n",
       "       [1.358110e+00, 8.021830e+00, 4.686870e+00],\n",
       "       [1.358110e+00, 8.021820e+00, 8.416100e+00],\n",
       "       [1.358100e+00, 8.021840e+00, 1.214532e+01],\n",
       "       [4.232790e+00, 7.904010e+00, 9.557700e-01],\n",
       "       [4.232810e+00, 7.904010e+00, 4.684980e+00],\n",
       "       [4.232840e+00, 7.904010e+00, 8.414220e+00],\n",
       "       [4.232810e+00, 7.903990e+00, 1.214344e+01],\n",
       "       [7.043860e+00, 7.810060e+00, 9.499600e-01],\n",
       "       [7.043900e+00, 7.810060e+00, 4.679200e+00],\n",
       "       [7.043890e+00, 7.810060e+00, 8.408410e+00],\n",
       "       [7.043870e+00, 7.810050e+00, 1.213765e+01],\n",
       "       [1.414260e+00, 3.559140e+00, 2.817160e+00],\n",
       "       [1.414300e+00, 3.559130e+00, 6.546370e+00],\n",
       "       [1.414300e+00, 3.559140e+00, 1.027564e+01],\n",
       "       [1.414270e+00, 3.559130e+00, 1.400485e+01],\n",
       "       [4.311640e+00, 3.627590e+00, 2.824450e+00],\n",
       "       [4.311680e+00, 3.627600e+00, 6.553690e+00],\n",
       "       [4.311680e+00, 3.627600e+00, 1.028288e+01],\n",
       "       [4.311660e+00, 3.627580e+00, 1.401215e+01],\n",
       "       [7.216040e+00, 3.681870e+00, 2.823890e+00],\n",
       "       [7.216080e+00, 3.681820e+00, 6.553070e+00],\n",
       "       [7.216090e+00, 3.681820e+00, 1.028234e+01],\n",
       "       [7.216050e+00, 3.681880e+00, 1.401154e+01],\n",
       "       [2.958910e+00, 1.932330e+00, 9.556300e-01],\n",
       "       [2.958980e+00, 1.932320e+00, 4.684840e+00],\n",
       "       [2.958940e+00, 1.932310e+00, 8.414090e+00],\n",
       "       [2.959010e+00, 1.932310e+00, 1.214332e+01],\n",
       "       [5.833960e+00, 2.052630e+00, 9.570900e-01],\n",
       "       [5.833970e+00, 2.052640e+00, 4.686320e+00],\n",
       "       [5.834010e+00, 2.052610e+00, 8.415550e+00],\n",
       "       [5.833980e+00, 2.052640e+00, 1.214477e+01],\n",
       "       [2.879520e+00, 9.598750e+00, 2.824910e+00],\n",
       "       [2.879520e+00, 9.598720e+00, 6.554110e+00],\n",
       "       [2.879530e+00, 9.598730e+00, 1.028335e+01],\n",
       "       [2.879510e+00, 9.598720e+00, 1.401260e+01],\n",
       "       [5.776610e+00, 9.533160e+00, 2.817500e+00],\n",
       "       [5.776620e+00, 9.533180e+00, 6.546740e+00],\n",
       "       [5.776620e+00, 9.533140e+00, 1.027598e+01],\n",
       "       [5.776590e+00, 9.533150e+00, 1.400519e+01],\n",
       "       [1.489600e-01, 1.834000e+00, 1.213770e+01],\n",
       "       [1.489800e-01, 1.834020e+00, 8.408520e+00],\n",
       "       [1.489200e-01, 1.834020e+00, 4.679320e+00],\n",
       "       [1.488800e-01, 1.834040e+00, 9.500700e-01],\n",
       "       [2.220841e+01, 9.650920e+00, 1.028294e+01],\n",
       "       [2.220838e+01, 9.650920e+00, 6.553710e+00],\n",
       "       [2.220840e+01, 9.650930e+00, 2.824510e+00],\n",
       "       [2.220840e+01, 9.650930e+00, 1.401215e+01],\n",
       "       [1.425270e+00, 3.239590e+00, 9.519000e-01],\n",
       "       [1.425320e+00, 3.239590e+00, 4.681130e+00],\n",
       "       [1.425320e+00, 3.239580e+00, 8.410350e+00],\n",
       "       [1.425350e+00, 3.239600e+00, 1.213958e+01],\n",
       "       [4.315730e+00, 3.299380e+00, 9.567300e-01],\n",
       "       [4.315730e+00, 3.299380e+00, 4.685950e+00],\n",
       "       [4.315760e+00, 3.299370e+00, 8.415170e+00],\n",
       "       [4.315730e+00, 3.299390e+00, 1.214441e+01],\n",
       "       [7.147140e+00, 3.382260e+00, 9.572900e-01],\n",
       "       [7.147110e+00, 3.382250e+00, 4.686500e+00],\n",
       "       [7.147170e+00, 3.382230e+00, 8.415730e+00],\n",
       "       [7.147130e+00, 3.382260e+00, 1.214497e+01],\n",
       "       [1.571620e+00, 6.551500e-01, 9.521400e-01],\n",
       "       [1.571640e+00, 6.551100e-01, 4.681370e+00],\n",
       "       [1.571640e+00, 6.551400e-01, 8.410570e+00],\n",
       "       [1.571680e+00, 6.550800e-01, 1.213982e+01],\n",
       "       [4.412280e+00, 7.377100e-01, 9.768400e-01],\n",
       "       [4.412260e+00, 7.376900e-01, 4.706060e+00],\n",
       "       [4.412330e+00, 7.377000e-01, 8.435300e+00],\n",
       "       [4.412280e+00, 7.377100e-01, 1.216451e+01],\n",
       "       [7.190020e+00, 6.373900e-01, 9.500900e-01],\n",
       "       [7.190070e+00, 6.374200e-01, 4.679330e+00],\n",
       "       [7.190110e+00, 6.374100e-01, 8.408560e+00],\n",
       "       [7.190070e+00, 6.374300e-01, 1.213779e+01],\n",
       "       [1.383310e+00, 8.267120e+00, 2.821770e+00],\n",
       "       [1.383330e+00, 8.267110e+00, 6.551010e+00],\n",
       "       [1.383340e+00, 8.267090e+00, 1.028025e+01],\n",
       "       [1.383320e+00, 8.267110e+00, 1.400947e+01],\n",
       "       [4.278460e+00, 8.247540e+00, 2.818410e+00],\n",
       "       [4.278470e+00, 8.247530e+00, 6.547660e+00],\n",
       "       [4.278480e+00, 8.247530e+00, 1.027689e+01],\n",
       "       [4.278460e+00, 8.247510e+00, 1.400611e+01],\n",
       "       [7.173570e+00, 8.225690e+00, 2.812920e+00],\n",
       "       [7.173590e+00, 8.225710e+00, 6.542160e+00],\n",
       "       [7.173580e+00, 8.225680e+00, 1.027138e+01],\n",
       "       [7.173550e+00, 8.225690e+00, 1.400061e+01],\n",
       "       [1.476910e+00, 1.085881e+01, 2.845820e+00],\n",
       "       [1.476920e+00, 1.085879e+01, 6.575070e+00],\n",
       "       [1.476920e+00, 1.085878e+01, 1.030427e+01],\n",
       "       [1.476930e+00, 1.085879e+01, 1.403353e+01],\n",
       "       [4.349400e+00, 1.080714e+01, 2.836280e+00],\n",
       "       [4.349400e+00, 1.080714e+01, 6.565530e+00],\n",
       "       [4.349430e+00, 1.080714e+01, 1.029475e+01],\n",
       "       [4.349400e+00, 1.080715e+01, 1.402398e+01],\n",
       "       [7.094480e+00, 1.091939e+01, 2.815650e+00],\n",
       "       [7.094480e+00, 1.091937e+01, 6.544870e+00],\n",
       "       [7.094490e+00, 1.091937e+01, 1.027412e+01],\n",
       "       [7.094490e+00, 1.091937e+01, 1.400333e+01],\n",
       "       [2.875740e+00, 9.270190e+00, 9.572000e-01],\n",
       "       [2.875710e+00, 9.270180e+00, 4.686400e+00],\n",
       "       [2.875760e+00, 9.270190e+00, 8.415660e+00],\n",
       "       [2.875730e+00, 9.270170e+00, 1.214489e+01],\n",
       "       [5.766040e+00, 9.213400e+00, 9.523000e-01],\n",
       "       [5.766050e+00, 9.213390e+00, 4.681540e+00],\n",
       "       [5.766050e+00, 9.213410e+00, 8.410780e+00],\n",
       "       [5.766050e+00, 9.213380e+00, 1.214000e+01],\n",
       "       [2.779930e+00, 6.708040e+00, 9.768200e-01],\n",
       "       [2.779960e+00, 6.708070e+00, 4.706030e+00],\n",
       "       [2.780000e+00, 6.708050e+00, 8.435260e+00],\n",
       "       [2.779940e+00, 6.708050e+00, 1.216448e+01],\n",
       "       [5.621890e+00, 6.629300e+00, 9.524900e-01],\n",
       "       [5.621890e+00, 6.629320e+00, 4.681700e+00],\n",
       "       [5.621930e+00, 6.629300e+00, 8.410930e+00],\n",
       "       [5.621870e+00, 6.629280e+00, 1.214016e+01],\n",
       "       [2.912420e+00, 2.275410e+00, 2.818030e+00],\n",
       "       [2.912480e+00, 2.275390e+00, 6.547250e+00],\n",
       "       [2.912470e+00, 2.275400e+00, 1.027649e+01],\n",
       "       [2.912420e+00, 2.275430e+00, 1.400572e+01],\n",
       "       [5.809270e+00, 2.297540e+00, 2.821300e+00],\n",
       "       [5.809330e+00, 2.297510e+00, 6.550530e+00],\n",
       "       [5.809340e+00, 2.297530e+00, 1.027975e+01],\n",
       "       [5.809280e+00, 2.297530e+00, 1.400899e+01],\n",
       "       [2.841430e+00, 4.834330e+00, 2.835840e+00],\n",
       "       [2.841480e+00, 4.834320e+00, 6.565030e+00],\n",
       "       [2.841480e+00, 4.834330e+00, 1.029426e+01],\n",
       "       [2.841440e+00, 4.834330e+00, 1.402348e+01],\n",
       "       [5.713960e+00, 4.888420e+00, 2.845760e+00],\n",
       "       [5.713980e+00, 4.888410e+00, 6.575000e+00],\n",
       "       [5.714000e+00, 4.888390e+00, 1.030421e+01],\n",
       "       [5.713960e+00, 4.888390e+00, 1.403344e+01],\n",
       "       [8.567440e+00, 4.983440e+00, 1.400569e+01],\n",
       "       [8.567430e+00, 4.983430e+00, 2.817990e+00],\n",
       "       [8.567450e+00, 4.983430e+00, 6.547210e+00],\n",
       "       [8.567460e+00, 4.983440e+00, 1.027644e+01],\n",
       "       [8.511860e+00, 6.704670e+00, 9.494200e-01],\n",
       "       [8.511880e+00, 6.704680e+00, 4.678620e+00],\n",
       "       [8.511890e+00, 6.704680e+00, 8.407840e+00],\n",
       "       [8.511880e+00, 6.704660e+00, 1.213708e+01],\n",
       "       [8.692130e+00, 2.196820e+00, 2.821790e+00],\n",
       "       [8.692150e+00, 2.196830e+00, 6.551010e+00],\n",
       "       [8.692180e+00, 2.196840e+00, 1.028028e+01],\n",
       "       [8.692140e+00, 2.196830e+00, 1.400952e+01],\n",
       "       [4.496000e-02, 9.351460e+00, 1.214535e+01],\n",
       "       [4.497000e-02, 9.351440e+00, 8.416130e+00],\n",
       "       [4.496000e-02, 9.351460e+00, 4.686900e+00],\n",
       "       [4.495000e-02, 9.351460e+00, 9.576700e-01],\n",
       "       [8.800000e-04, 6.607330e+00, 1.213680e+01],\n",
       "       [8.900000e-04, 6.607320e+00, 8.407580e+00],\n",
       "       [8.600000e-04, 6.607340e+00, 4.678370e+00],\n",
       "       [7.900000e-04, 6.607350e+00, 9.491300e-01],\n",
       "       [1.872000e-02, 2.250140e+00, 1.027108e+01],\n",
       "       [1.868000e-02, 2.250130e+00, 6.541920e+00],\n",
       "       [1.865000e-02, 2.250150e+00, 2.812680e+00],\n",
       "       [1.869000e-02, 2.250160e+00, 1.400032e+01],\n",
       "       [9.569000e-02, 4.944390e+00, 1.027333e+01],\n",
       "       [9.567000e-02, 4.944400e+00, 6.544130e+00],\n",
       "       [9.565000e-02, 4.944400e+00, 2.814900e+00],\n",
       "       [9.563000e-02, 4.944420e+00, 1.400258e+01],\n",
       "       [2.085602e+01, 1.095174e+01, 1.400513e+01],\n",
       "       [2.085601e+01, 1.095168e+01, 1.027591e+01],\n",
       "       [2.085601e+01, 1.095168e+01, 6.546710e+00],\n",
       "       [2.085601e+01, 1.095173e+01, 2.817460e+00],\n",
       "       [2.091581e+01, 7.273200e-01, 1.213641e+01],\n",
       "       [2.091582e+01, 7.272700e-01, 8.407220e+00],\n",
       "       [2.091578e+01, 7.272700e-01, 4.678010e+00],\n",
       "       [2.091577e+01, 7.273200e-01, 9.487500e-01],\n",
       "       [2.073298e+01, 8.165500e+00, 1.028085e+01],\n",
       "       [2.073295e+01, 8.165510e+00, 6.551650e+00],\n",
       "       [2.073289e+01, 8.165590e+00, 2.822400e+00],\n",
       "       [2.073288e+01, 8.165610e+00, 1.401008e+01],\n",
       "       [1.556920e+00, 1.189165e+01, 2.007400e-01],\n",
       "       [1.557000e+00, 1.189159e+01, 3.929990e+00],\n",
       "       [1.556970e+00, 1.189159e+01, 7.659210e+00],\n",
       "       [1.557020e+00, 1.189156e+01, 1.138842e+01],\n",
       "       [4.408180e+00, 4.533000e-02, 2.452100e-01],\n",
       "       [4.408140e+00, 4.530000e-02, 3.974430e+00],\n",
       "       [4.408230e+00, 4.532000e-02, 7.703670e+00],\n",
       "       [4.408160e+00, 4.532000e-02, 1.143289e+01],\n",
       "       [7.129360e+00, 1.190318e+01, 1.478500e-01],\n",
       "       [7.129370e+00, 1.190320e+01, 3.877070e+00],\n",
       "       [7.129400e+00, 1.190321e+01, 7.606330e+00],\n",
       "       [7.129390e+00, 1.190322e+01, 1.133554e+01],\n",
       "       [1.512650e+00, 1.151927e+01, 2.077630e+00],\n",
       "       [1.512700e+00, 1.151921e+01, 5.806860e+00],\n",
       "       [1.512680e+00, 1.151922e+01, 9.536100e+00],\n",
       "       [1.512710e+00, 1.151921e+01, 1.326532e+01],\n",
       "       [4.368600e+00, 1.150748e+01, 2.109800e+00],\n",
       "       [4.368570e+00, 1.150746e+01, 5.839030e+00],\n",
       "       [4.368610e+00, 1.150747e+01, 9.568250e+00],\n",
       "       [4.368580e+00, 1.150746e+01, 1.329748e+01],\n",
       "       [7.128120e+00, 1.190532e+01, 1.752610e+00],\n",
       "       [7.128130e+00, 1.190533e+01, 5.481850e+00],\n",
       "       [7.128160e+00, 1.190531e+01, 9.211060e+00],\n",
       "       [7.128150e+00, 1.190531e+01, 1.294030e+01],\n",
       "       [2.783650e+00, 6.016030e+00, 2.445700e-01],\n",
       "       [2.783660e+00, 6.016030e+00, 3.973810e+00],\n",
       "       [2.783700e+00, 6.016030e+00, 7.703020e+00],\n",
       "       [2.783660e+00, 6.016010e+00, 1.143225e+01],\n",
       "       [5.636030e+00, 5.920370e+00, 2.009600e-01],\n",
       "       [5.636080e+00, 5.920370e+00, 3.930190e+00],\n",
       "       [5.636060e+00, 5.920370e+00, 7.659390e+00],\n",
       "       [5.636050e+00, 5.920350e+00, 1.138863e+01],\n",
       "       [2.821890e+00, 5.534590e+00, 2.109010e+00],\n",
       "       [2.821920e+00, 5.534610e+00, 5.838250e+00],\n",
       "       [2.821950e+00, 5.534620e+00, 9.567460e+00],\n",
       "       [2.821910e+00, 5.534640e+00, 1.329670e+01],\n",
       "       [5.678210e+00, 5.549320e+00, 2.077750e+00],\n",
       "       [5.678260e+00, 5.549270e+00, 5.806970e+00],\n",
       "       [5.678260e+00, 5.549280e+00, 9.536210e+00],\n",
       "       [5.678230e+00, 5.549290e+00, 1.326544e+01],\n",
       "       [7.923600e+00, 1.040407e+01, 2.812040e+00],\n",
       "       [7.923610e+00, 1.040406e+01, 6.541290e+00],\n",
       "       [7.923610e+00, 1.040404e+01, 1.027054e+01],\n",
       "       [7.923620e+00, 1.040406e+01, 1.399977e+01],\n",
       "       [9.432620e+00, 4.540420e+00, 1.400096e+01],\n",
       "       [9.432620e+00, 4.540420e+00, 2.813230e+00],\n",
       "       [9.432640e+00, 4.540440e+00, 6.542410e+00],\n",
       "       [9.432650e+00, 4.540440e+00, 1.027167e+01],\n",
       "       [8.562650e+00, 6.054950e+00, 1.752770e+00],\n",
       "       [8.562660e+00, 6.054960e+00, 5.481980e+00],\n",
       "       [8.562680e+00, 6.054980e+00, 9.211210e+00],\n",
       "       [8.562670e+00, 6.054950e+00, 1.294045e+01],\n",
       "       [8.563670e+00, 6.050580e+00, 1.473700e-01],\n",
       "       [8.563670e+00, 6.050580e+00, 3.876570e+00],\n",
       "       [8.563710e+00, 6.050590e+00, 7.605780e+00],\n",
       "       [8.563700e+00, 6.050560e+00, 1.133504e+01],\n",
       "       [8.436660e+00, 1.651300e+00, 3.602910e+00],\n",
       "       [8.436720e+00, 1.651310e+00, 7.332150e+00],\n",
       "       [8.436720e+00, 1.651330e+00, 1.106141e+01],\n",
       "       [8.436650e+00, 1.651310e+00, 1.479064e+01],\n",
       "       [8.442140e+00, 1.661110e+00, 2.032700e+00],\n",
       "       [8.442190e+00, 1.661120e+00, 5.761920e+00],\n",
       "       [8.442220e+00, 1.661130e+00, 9.491180e+00],\n",
       "       [8.442190e+00, 1.661130e+00, 1.322042e+01],\n",
       "       [6.209000e-02, 5.929810e+00, 1.293930e+01],\n",
       "       [6.212000e-02, 5.929770e+00, 9.210080e+00],\n",
       "       [6.213000e-02, 5.929800e+00, 5.480870e+00],\n",
       "       [6.205000e-02, 5.929810e+00, 1.751620e+00],\n",
       "       [2.150023e+01, 4.428770e+00, 1.026918e+01],\n",
       "       [2.150021e+01, 4.428780e+00, 6.539980e+00],\n",
       "       [2.150016e+01, 4.428800e+00, 2.810750e+00],\n",
       "       [2.150017e+01, 4.428770e+00, 1.399843e+01],\n",
       "       [1.999057e+01, 1.050928e+01, 1.399874e+01],\n",
       "       [1.999058e+01, 1.050918e+01, 1.026953e+01],\n",
       "       [1.999057e+01, 1.050920e+01, 6.540360e+00],\n",
       "       [1.999056e+01, 1.050925e+01, 2.811100e+00],\n",
       "       [2.086205e+01, 7.361000e-02, 1.133414e+01],\n",
       "       [2.086209e+01, 7.358000e-02, 7.604910e+00],\n",
       "       [2.086205e+01, 7.359000e-02, 3.875720e+00],\n",
       "       [2.086201e+01, 7.363000e-02, 1.464700e-01],\n",
       "       [2.086350e+01, 7.779000e-02, 1.293973e+01],\n",
       "       [2.086352e+01, 7.777000e-02, 9.210570e+00],\n",
       "       [2.086347e+01, 7.774000e-02, 5.481330e+00],\n",
       "       [2.086344e+01, 7.779000e-02, 1.752080e+00],\n",
       "       [2.098129e+01, 7.630990e+00, 9.490450e+00],\n",
       "       [2.098131e+01, 7.630980e+00, 5.761270e+00],\n",
       "       [2.098123e+01, 7.631060e+00, 2.032020e+00],\n",
       "       [2.098116e+01, 7.631100e+00, 1.321966e+01],\n",
       "       [2.098942e+01, 7.618550e+00, 1.106074e+01],\n",
       "       [2.098941e+01, 7.618600e+00, 7.331550e+00],\n",
       "       [2.098929e+01, 7.618680e+00, 3.602320e+00],\n",
       "       [2.098930e+01, 7.618640e+00, 1.478995e+01],\n",
       "       [6.144000e-02, 5.927560e+00, 1.133455e+01],\n",
       "       [6.142000e-02, 5.927560e+00, 7.605310e+00],\n",
       "       [6.136000e-02, 5.927570e+00, 3.876100e+00],\n",
       "       [6.135000e-02, 5.927590e+00, 1.468400e-01]])"
      ]
     },
     "execution_count": 13,
     "metadata": {},
     "output_type": "execute_result"
    }
   ],
   "source": [
    "calculation_results.positions"
   ]
  },
  {
   "cell_type": "code",
   "execution_count": 4,
   "metadata": {},
   "outputs": [
    {
     "name": "stdout",
     "output_type": "stream",
     "text": [
      "Chemical formula:  H96Al48O120\n",
      "Potential Energy:  -1626.61454416\n"
     ]
    }
   ],
   "source": [
    "print('Chemical formula: ', calculation_results.get_chemical_formula())\n",
    "print('Potential Energy: ', calculation_results.get_potential_energy())"
   ]
  },
  {
   "cell_type": "code",
   "execution_count": 13,
   "metadata": {},
   "outputs": [
    {
     "ename": "AttributeError",
     "evalue": "'Atoms' object has no attribute 'get_'",
     "output_type": "error",
     "traceback": [
      "\u001b[0;31m---------------------------------------------------------------------------\u001b[0m",
      "\u001b[0;31mAttributeError\u001b[0m                            Traceback (most recent call last)",
      "\u001b[0;32m<ipython-input-13-3d47edfe4dec>\u001b[0m in \u001b[0;36m<module>\u001b[0;34m()\u001b[0m\n\u001b[1;32m      1\u001b[0m \u001b[0;31m# There are many more properties to extract. You can access them with tab\u001b[0m\u001b[0;34m\u001b[0m\u001b[0;34m\u001b[0m\u001b[0;34m\u001b[0m\u001b[0m\n\u001b[0;32m----> 2\u001b[0;31m \u001b[0mcalculation_results\u001b[0m\u001b[0;34m.\u001b[0m\u001b[0mget_\u001b[0m\u001b[0;34m\u001b[0m\u001b[0;34m\u001b[0m\u001b[0m\n\u001b[0m",
      "\u001b[0;31mAttributeError\u001b[0m: 'Atoms' object has no attribute 'get_'"
     ]
    }
   ],
   "source": [
    "# There are many more properties to extract. You can access them with tab\n",
    "calculation_results.get_"
   ]
  },
  {
   "cell_type": "markdown",
   "metadata": {},
   "source": [
    "### output\n",
    "Transforming to the relevant output is also rather straight-forward. Once you have the `Atoms` object, obtained from the CONTCAR and/or OUTCAR, you can use the `write` functionalities to convert to different formats. The bgf-format is not included in python, but you could use openbabel (also through python) to convert from xyz to bgf."
   ]
  },
  {
   "cell_type": "code",
   "execution_count": null,
   "metadata": {},
   "outputs": [],
   "source": [
    "# to xyz format\n",
    "molecule.write('molecule.xyz')"
   ]
  },
  {
   "cell_type": "markdown",
   "metadata": {},
   "source": [
    "### calculations with ASE\n",
    "Calculations are done through so-called `calculators`. Let us take, for the sake of example, an included LennardJones potential.\n",
    "You can readily import the engine through ase.calculators.\n",
    "\n",
    "You can include external engines by specifying which 'command' to run. In general, the default value is already correct."
   ]
  },
  {
   "cell_type": "code",
   "execution_count": null,
   "metadata": {},
   "outputs": [],
   "source": [
    "from ase.calculators.lj import LennardJones"
   ]
  },
  {
   "cell_type": "markdown",
   "metadata": {},
   "source": [
    "#### Single Point Calculation"
   ]
  },
  {
   "cell_type": "code",
   "execution_count": null,
   "metadata": {},
   "outputs": [],
   "source": [
    "# single point calculation\n",
    "atoms = io.read('molecule.xyz')\n",
    "atoms.calc = LennardJones()\n",
    "en_atoms = atoms.get_potential_energy()\n",
    "print('Potential energy using LJ: ', en_atoms)"
   ]
  },
  {
   "cell_type": "markdown",
   "metadata": {},
   "source": [
    "#### Geometry Optimization"
   ]
  },
  {
   "cell_type": "code",
   "execution_count": null,
   "metadata": {},
   "outputs": [],
   "source": [
    "# Geometry Optimization using FIRE.\n",
    "from ase.optimize import FIRE\n",
    "\n",
    "atoms = io.read('molecule.xyz')\n",
    "atoms.calc = LennardJones()\n",
    "opt = FIRE(atoms, trajectory='opt.traj', logfile='opt.log')\n",
    "opt.run(fmax=0.05)"
   ]
  },
  {
   "cell_type": "code",
   "execution_count": null,
   "metadata": {},
   "outputs": [],
   "source": []
  }
 ],
 "metadata": {
  "kernelspec": {
   "display_name": "AMS2021.2.venv",
   "language": "python",
   "name": "ams2021.2.venv"
  },
  "language_info": {
   "codemirror_mode": {
    "name": "ipython",
    "version": 3
   },
   "file_extension": ".py",
   "mimetype": "text/x-python",
   "name": "python",
   "nbconvert_exporter": "python",
   "pygments_lexer": "ipython3",
   "version": "3.6.9"
  }
 },
 "nbformat": 4,
 "nbformat_minor": 4
}
