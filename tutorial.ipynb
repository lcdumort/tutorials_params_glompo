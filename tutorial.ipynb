{
 "cells": [
  {
   "cell_type": "markdown",
   "metadata": {},
   "source": [
    "# Tutorial Session on ParAMS, GloMPO and ASE"
   ]
  },
  {
   "cell_type": "markdown",
   "metadata": {},
   "source": [
    "## Jupyter Notebook\n",
    "[Jupyter notebook](https://jupyterlab.readthedocs.io/en/stable/) is a powerfull way to interact, document and share code (typically Python, but recently Julia and R have also become available). \n",
    "Jupyter is a project that builds on the iPython (Interactive Python).\n",
    "Jupyter works with cells, which either contain either executable code and their output or markdown style text to document.\n",
    "\n",
    "It is not really suitable for larger projects, as your code might get chaotic. \n",
    "Jupyter lacks multiple features to properly manage and test your code. \n",
    "It should therefore not be used as full-fledged IDE.\n",
    "This approach is particularly suited to quickly prototype some script, create visualizations and analysis calculations.\n",
    "\n",
    "### Installation\n",
    "The most convenient way to install jupyter notebook is through `conda`. \n",
    "Conda is a virtual environment manager and package installer that is used to separate the necessary files per project.\n",
    "It is recommended to use a new environment for every project.\n",
    "However, since Jupyter onnly needs to be installed just once (and then kernels can be added), you can install just one virtual environment with your jupyter engine and then just add kernels to it.\n",
    "1. Create a virtual environment: `conda create -n my_env python=3.6`\n",
    "2. Activate your virtual environment: `conda activate my_env`\n",
    "3. Install jupyter lab: `conda install -c conda-forge jupyterlab`\n",
    "\n",
    "You can start jupyter lab by typing `jupyter lab` in your terminal (make sure you have activated your virtual environment).\n",
    "\n",
    "### Add kernel to jupyter lab\n",
    "Now one should add the amspython kernel to our fresh install of jupyter lab.\n",
    "1. We need to install the ipython kernel package to the amspython environment: `amspython -m pip install ipykernel`\n",
    "2. Create a new kernel from amspython `amspython -m ipykernel install --user --name=amspython2021`\n",
    "\n",
    "The kernel should now be available when you start jupyter lab.\n"
   ]
  },
  {
   "cell_type": "markdown",
   "metadata": {},
   "source": [
    "## Python Crash course\n",
    "Python is a high-level, interpreted programming language, i.e. it does not require compilation whatsoever. The advantage is that your code runs immediately and is easily readable.\n",
    "The disadvantage is the computational performance. Computer intensive parts are better loaded off to (often compiled) languages that have improved performance.\n",
    "Luckily, many packages are available that can drastically speed up the execution speed. The most popular is `numpy`, that is a central point in computational computing. \n",
    "This library introduces tensors, on which computations are offloaded to highly efficient compiled code (written in C or C++).\n",
    "\n",
    "### Variables\n",
    "\n",
    "<table class=\"docutils align-default\">\n",
    "<colgroup>\n",
    "<col style=\"width: 19%\" />\n",
    "<col style=\"width: 36%\" />\n",
    "<col style=\"width: 45%\" />\n",
    "</colgroup>\n",
    "<thead>\n",
    "<tr class=\"row-odd\"><th class=\"head\"><p>type</p></th>\n",
    "<th class=\"head\"><p>description</p></th>\n",
    "<th class=\"head\"><p>example</p></th>\n",
    "</tr>\n",
    "</thead>\n",
    "<tbody>\n",
    "<tr class=\"row-even\"><td><p><code class=\"docutils literal notranslate\"><span class=\"pre\">bool</span></code></p></td>\n",
    "<td><p>boolean</p></td>\n",
    "<td><p><code class=\"docutils literal notranslate\"><span class=\"pre\">False</span></code></p></td>\n",
    "</tr>\n",
    "<tr class=\"row-odd\"><td><p><code class=\"docutils literal notranslate\"><span class=\"pre\">int</span></code></p></td>\n",
    "<td><p>integer</p></td>\n",
    "<td><p><code class=\"docutils literal notranslate\"><span class=\"pre\">117</span></code></p></td>\n",
    "</tr>\n",
    "<tr class=\"row-even\"><td><p><code class=\"docutils literal notranslate\"><span class=\"pre\">float</span></code></p></td>\n",
    "<td><p>floating point number</p></td>\n",
    "<td><p><code class=\"docutils literal notranslate\"><span class=\"pre\">1.78</span></code></p></td>\n",
    "</tr>\n",
    "<tr class=\"row-odd\"><td><p><code class=\"docutils literal notranslate\"><span class=\"pre\">complex</span></code></p></td>\n",
    "<td><p>complex number</p></td>\n",
    "<td><p><code class=\"docutils literal notranslate\"><span class=\"pre\">0.5</span> <span class=\"pre\">+</span> <span class=\"pre\">2.0j</span></code></p></td>\n",
    "</tr>\n",
    "<tr class=\"row-even\"><td><p><code class=\"docutils literal notranslate\"><span class=\"pre\">str</span></code></p></td>\n",
    "<td><p>string</p></td>\n",
    "<td><p><code class=\"docutils literal notranslate\"><span class=\"pre\">'abc'</span></code></p></td>\n",
    "</tr>\n",
    "<tr class=\"row-odd\"><td><p><code class=\"docutils literal notranslate\"><span class=\"pre\">tuple</span></code></p></td>\n",
    "<td><p>tuple</p></td>\n",
    "<td><p><code class=\"docutils literal notranslate\"><span class=\"pre\">(1,</span> <span class=\"pre\">'hmm',</span> <span class=\"pre\">2.0)</span></code></p></td>\n",
    "</tr>\n",
    "<tr class=\"row-even\"><td><p><code class=\"docutils literal notranslate\"><span class=\"pre\">list</span></code></p></td>\n",
    "<td><p>list</p></td>\n",
    "<td><p><code class=\"docutils literal notranslate\"><span class=\"pre\">[1,</span> <span class=\"pre\">'hmm',</span> <span class=\"pre\">2.0]</span></code></p></td>\n",
    "</tr>\n",
    "<tr class=\"row-odd\"><td><p><code class=\"docutils literal notranslate\"><span class=\"pre\">dict</span></code></p></td>\n",
    "<td><p>dictionary</p></td>\n",
    "<td><p><code class=\"docutils literal notranslate\"><span class=\"pre\">{'a':</span> <span class=\"pre\">7.0,</span> <span class=\"pre\">23:</span> <span class=\"pre\">True}</span></code></p></td>\n",
    "</tr>\n",
    "</tbody>\n",
    "</table>"
   ]
  },
  {
   "cell_type": "code",
   "execution_count": 12,
   "metadata": {},
   "outputs": [
    {
     "name": "stdout",
     "output_type": "stream",
     "text": [
      "5\n",
      "hello world\n",
      "[1, 2, 3]\n",
      "{'a': 1, 'b': 2}\n"
     ]
    }
   ],
   "source": [
    "x = 5\n",
    "print(x)\n",
    "\n",
    "y = 'hello world'\n",
    "print(y)\n",
    "\n",
    "list_example = [1,2,3]\n",
    "print(list_example)\n",
    "\n",
    "dict_example = {'a':1, 'b':2}\n",
    "print(dict_example)"
   ]
  },
  {
   "cell_type": "markdown",
   "metadata": {},
   "source": [
    "### Operations"
   ]
  },
  {
   "cell_type": "code",
   "execution_count": 5,
   "metadata": {},
   "outputs": [
    {
     "name": "stdout",
     "output_type": "stream",
     "text": [
      "11\n",
      "-1\n",
      "30\n",
      "15625\n",
      "5\n"
     ]
    }
   ],
   "source": [
    "x = 5\n",
    "y = 6\n",
    "\n",
    "# addition\n",
    "print(x + y)\n",
    "\n",
    "# substraction\n",
    "print(x - y)\n",
    "\n",
    "# multiplication\n",
    "print(x*y)\n",
    "\n",
    "# exponential\n",
    "print(x**y)\n",
    "\n",
    "# modulus\n",
    "print(x%y)"
   ]
  },
  {
   "cell_type": "markdown",
   "metadata": {},
   "source": [
    "### Functions\n",
    "To reuse code, it recommended to order them. The most convenient are functions:\n"
   ]
  },
  {
   "cell_type": "code",
   "execution_count": 9,
   "metadata": {},
   "outputs": [],
   "source": [
    "def multiplication(x, y):\n",
    "    result = x*y\n",
    "    return result"
   ]
  },
  {
   "cell_type": "code",
   "execution_count": 10,
   "metadata": {},
   "outputs": [
    {
     "data": {
      "text/plain": [
       "50"
      ]
     },
     "execution_count": 10,
     "metadata": {},
     "output_type": "execute_result"
    }
   ],
   "source": [
    "multiplication(5,10)"
   ]
  },
  {
   "cell_type": "markdown",
   "metadata": {},
   "source": [
    "Python also introduces object-oriented approaches with classes. Many libraries use this as it allows to manage code more efficiently. However, it is a bit outside the scope here"
   ]
  },
  {
   "cell_type": "markdown",
   "metadata": {},
   "source": [
    "## PLAMS and ParAMS\n",
    "PLAMS and ParAMS come automatically with amspython. You can verify that they are accessible by importing them.\n",
    "The following code imports all modules available within `plams` and `params`. There are quite some modules, so importing takes a little while.\n",
    "\n",
    "Do note that for PLAMS and ParAMS, the documentation is your friend at [scm.com](https://www.scm.com/doc/plams/)"
   ]
  },
  {
   "cell_type": "code",
   "execution_count": 2,
   "metadata": {},
   "outputs": [],
   "source": [
    "from scm.plams import *\n",
    "from scm.params import *"
   ]
  },
  {
   "cell_type": "code",
   "execution_count": null,
   "metadata": {},
   "outputs": [],
   "source": []
  },
  {
   "cell_type": "markdown",
   "metadata": {},
   "source": [
    "## Atomic Simulation Environment\n",
    "The [Atomic Simulation Environment](https://wiki.fysik.dtu.dk/ase/about.html), or `ase` is already available in amspython so it can be readily imported. Import to note is that ASE also provides GUI's and command line interfaces. However, for large scale conversions, calculations and automation the python interface is prefered. Here we will focus on the usage of input-output conversion, although ASE provides many functionalities."
   ]
  },
  {
   "cell_type": "code",
   "execution_count": 14,
   "metadata": {},
   "outputs": [],
   "source": [
    "from ase import io"
   ]
  },
  {
   "cell_type": "markdown",
   "metadata": {},
   "source": [
    "### input"
   ]
  },
  {
   "cell_type": "code",
   "execution_count": 20,
   "metadata": {},
   "outputs": [
    {
     "name": "stdout",
     "output_type": "stream",
     "text": [
      "Atoms(symbols='H96Al48O120', pbc=True, cell=[[0.0, 11.945414, 0.0], [0.0, 0.0, 14.916908], [22.233491, 0.0, 0.0]])\n"
     ]
    }
   ],
   "source": [
    "# Reading in molecules from the CONTCAR files is very simple\n",
    "molecule = io.read('CONTCAR')\n",
    "print(molecule)"
   ]
  },
  {
   "cell_type": "code",
   "execution_count": 23,
   "metadata": {},
   "outputs": [
    {
     "name": "stdout",
     "output_type": "stream",
     "text": [
      "Atoms(symbols='H96Al48O120', pbc=True, cell=[[0.0, 11.945414, 0.0], [0.0, 0.0, 14.916908], [22.233491, 0.0, 0.0]], calculator=SinglePointDFTCalculator(...))\n"
     ]
    }
   ],
   "source": [
    "# You can also read in the results from the OUTCAR File:\n",
    "calculation_results = io.read('OUTCAR')\n",
    "print(calculation_results)"
   ]
  },
  {
   "cell_type": "code",
   "execution_count": 29,
   "metadata": {},
   "outputs": [
    {
     "name": "stdout",
     "output_type": "stream",
     "text": [
      "Chemical formula:  H96Al48O120\n",
      "Potential Energy:  -1626.61454416\n"
     ]
    }
   ],
   "source": [
    "print('Chemical formula: ', calculation_results.get_chemical_formula())\n",
    "print('Potential Energy: ', calculation_results.get_potential_energy())"
   ]
  },
  {
   "cell_type": "code",
   "execution_count": 35,
   "metadata": {},
   "outputs": [
    {
     "ename": "AttributeError",
     "evalue": "'Atoms' object has no attribute 'get_'",
     "output_type": "error",
     "traceback": [
      "\u001b[0;31m---------------------------------------------------------------------------\u001b[0m",
      "\u001b[0;31mAttributeError\u001b[0m                            Traceback (most recent call last)",
      "\u001b[0;32m<ipython-input-35-3d47edfe4dec>\u001b[0m in \u001b[0;36m<module>\u001b[0;34m\u001b[0m\n\u001b[1;32m      1\u001b[0m \u001b[0;31m# There are many more properties to extract. You can access them with tab\u001b[0m\u001b[0;34m\u001b[0m\u001b[0;34m\u001b[0m\u001b[0;34m\u001b[0m\u001b[0m\n\u001b[0;32m----> 2\u001b[0;31m \u001b[0mcalculation_results\u001b[0m\u001b[0;34m.\u001b[0m\u001b[0mget_\u001b[0m\u001b[0;34m\u001b[0m\u001b[0;34m\u001b[0m\u001b[0m\n\u001b[0m",
      "\u001b[0;31mAttributeError\u001b[0m: 'Atoms' object has no attribute 'get_'"
     ]
    }
   ],
   "source": [
    "# There are many more properties to extract. You can access them with tab\n",
    "calculation_results.get_"
   ]
  },
  {
   "cell_type": "markdown",
   "metadata": {},
   "source": [
    "### output\n",
    "Transforming to the relevant output is also rather straight-forward. Once you have the `Atoms` object, obtained from the CONTCAR and/or OUTCAR, you can use the `write` functionalities to convert to different formats. The bgf-format is not included in python, but you could use openbabel (also through python) to convert from xyz to bgf."
   ]
  },
  {
   "cell_type": "code",
   "execution_count": 37,
   "metadata": {},
   "outputs": [],
   "source": [
    "# to xyz format\n",
    "molecule.write('molecule.xyz')"
   ]
  },
  {
   "cell_type": "code",
   "execution_count": null,
   "metadata": {},
   "outputs": [],
   "source": []
  }
 ],
 "metadata": {
  "kernelspec": {
   "display_name": "AMS2021.104 (venv)",
   "language": "python",
   "name": "python36964bitpython36virtualenvd675ade249144777a75516c8ffb06241"
  },
  "language_info": {
   "codemirror_mode": {
    "name": "ipython",
    "version": 3
   },
   "file_extension": ".py",
   "mimetype": "text/x-python",
   "name": "python",
   "nbconvert_exporter": "python",
   "pygments_lexer": "ipython3",
   "version": "3.6.9"
  }
 },
 "nbformat": 4,
 "nbformat_minor": 4
}
