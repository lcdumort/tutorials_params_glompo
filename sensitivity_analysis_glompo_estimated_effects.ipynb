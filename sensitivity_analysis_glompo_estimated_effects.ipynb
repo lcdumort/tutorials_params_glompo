{
 "cells": [
  {
   "cell_type": "markdown",
   "metadata": {},
   "source": [
    "# A sensitivity analysis of an alumina force field\n",
    "\n",
    "## Theory\n",
    "This section is based on _Global Sensitivity Analysis: The Primer, chapter 3_ by _A. Saltelli, M. Ratto, T. Andres, F. Campolongo, J. Cariboni, D. Gatelli, M. Saisana and S. Tarantola_.\n",
    "\n",
    "#### Estimated Effects Method\n",
    "This (qualitative) sensitivity method is useful when the amount of unput factors is too large to use computationally expensive variance-based techniques. It attempts to overcome the limitations of derivative-based approaches.\n",
    "\n",
    "The method divides factors in different categories: negligible, linear/additive and nonlinear/interactions.\n",
    "\n",
    "In general, one first defines a value $p$"
   ]
  },
  {
   "cell_type": "markdown",
   "metadata": {},
   "source": [
    "## Technical\n",
    "### Setting up the environment\n",
    "The functionality is included in `glompo`, a python package that Michael Gustavo wrote.\n",
    "First we need some tweaks to set the right path for the AMSPython interpreter as this \n",
    "seems to have some issues with jupyter.\n",
    "\n",
    "For this to work, we require 3 components from glompo\n",
    "* ReaxFFError - A wrapper that defines ReaxFF as an input function for sensitivity analysis\n",
    "\n",
    "* Estimated Effects - The sensitivity analysis tool that is used in this case\n",
    "\n",
    "* unstable trajectory - A sampler that samples points in the dimensionality of our problem +1 (since we have 69 parameters, this will be 70 in our case.). If the sample point does not find a valid entry, it will research for a point that does return a valid value."
   ]
  },
  {
   "cell_type": "code",
   "execution_count": 1,
   "metadata": {},
   "outputs": [],
   "source": [
    "import numpy as np\n",
    "import matplotlib.pyplot as plt\n",
    "import os\n",
    "import sys\n",
    "\n",
    "import dill\n",
    "import pickle as pkl\n",
    "\n",
    "import glompo\n",
    "from glompo.interfaces.params import ReaxFFError\n",
    "from glompo.analysis.estimatedeffects import EstimatedEffects\n",
    "from glompo.analysis.trajectories import unstable_func_radial_trajectory_set"
   ]
  },
  {
   "cell_type": "code",
   "execution_count": 14,
   "metadata": {},
   "outputs": [],
   "source": [
    "path = '/work/dumortil/Documents/projects/zeolytes/ff1_version3/sensitivity_analysis_glompo'"
   ]
  },
  {
   "cell_type": "code",
   "execution_count": 2,
   "metadata": {},
   "outputs": [
    {
     "data": {
      "text/plain": [
       "['',\n",
       " '/work/dumortil/ams2021.207.r99676/bin/python3.6/lib/python36.zip',\n",
       " '/work/dumortil/ams2021.207.r99676/bin/python3.6/lib/python3.6',\n",
       " '/work/dumortil/ams2021.207.r99676/bin/python3.6/lib/python3.6/lib-dynload',\n",
       " '/work/dumortil/.scm/python/AMS2021.2.venv/lib/python3.6/site-packages',\n",
       " '/work/dumortil/ams2021.207.r99676/bin/python3.6/lib/python3.6/site-packages',\n",
       " '/work/dumortil/ams2021.207.r99676/scripting',\n",
       " '/work/dumortil/.scm/python/AMS2021.2.venv/lib/python3.6/site-packages/IPython/extensions',\n",
       " '/work/dumortil/.ipython']"
      ]
     },
     "execution_count": 2,
     "metadata": {},
     "output_type": "execute_result"
    }
   ],
   "source": [
    "sys.path"
   ]
  },
  {
   "cell_type": "code",
   "execution_count": 3,
   "metadata": {},
   "outputs": [
    {
     "data": {
      "text/plain": [
       "'0.3.4'"
      ]
     },
     "execution_count": 3,
     "metadata": {},
     "output_type": "execute_result"
    }
   ],
   "source": [
    "# assert your dill version is 0.3.0 or above. If not, we will not be able to read in the results\n",
    "dill.__version__"
   ]
  },
  {
   "cell_type": "markdown",
   "metadata": {},
   "source": [
    "### Read in the results and building the EstimatedEffects object\n",
    "The calculations have been performed on the IFP-cluster and are then serialized through `dill`, comparable with the `pickle` module.\n",
    "These can be read in on the local machine, such that the exact state of the cluster can be reproduced.\n",
    "The `EsitmatedEffects` object requires the input (parameters) and output dimensions (errors, thus one), the convergence threshold and the cut_off threshold as well as the trajectory style, which is 'radial' in the case of ReaxFF."
   ]
  },
  {
   "cell_type": "code",
   "execution_count": 5,
   "metadata": {},
   "outputs": [],
   "source": [
    "v = ReaxFFError.from_params_files('/work/dumortil/Documents/projects/zeolytes/ff1_version3/sensitivity_analysis_glompo')"
   ]
  },
  {
   "cell_type": "code",
   "execution_count": 6,
   "metadata": {},
   "outputs": [],
   "source": [
    "n_parms = 69 #activated parameters"
   ]
  },
  {
   "cell_type": "code",
   "execution_count": 9,
   "metadata": {},
   "outputs": [],
   "source": [
    "f_traj_40 = os.path.join('/work/dumortil/Documents/projects/zeolytes/ff1_version3/sensitivity_analysis_glompo', 'trajectory_40.dill')"
   ]
  },
  {
   "cell_type": "code",
   "execution_count": 10,
   "metadata": {},
   "outputs": [],
   "source": [
    "with open(f_traj_40, 'rb') as f:\n",
    "    traj = dill.load(f)"
   ]
  },
  {
   "cell_type": "code",
   "execution_count": 11,
   "metadata": {},
   "outputs": [
    {
     "data": {
      "text/plain": [
       "1.0"
      ]
     },
     "execution_count": 11,
     "metadata": {},
     "output_type": "execute_result"
    }
   ],
   "source": [
    "traj[-1]"
   ]
  },
  {
   "cell_type": "code",
   "execution_count": 12,
   "metadata": {},
   "outputs": [],
   "source": [
    "ee = EstimatedEffects(input_dims=69,\n",
    "                      output_dims=1,\n",
    "                      groupings=None,\n",
    "                      convergence_threshold=0,\n",
    "                      cutoff_threshold=0.1,\n",
    "                      trajectory_style='radial')\n",
    "ee.add_trajectory(traj[0], traj[1])"
   ]
  },
  {
   "cell_type": "markdown",
   "metadata": {},
   "source": [
    "### Plot all the possible information\n",
    "Once the calculations are done, we can plot the results. \n",
    "* `ee.plot_rankings()` will rank the significance of the factors. The numerical results can be accessed through `ee.order_factors()` or `ee.rankings()`. The former is an array with the most significant parameter first, then the scond most significant, _etc._ . The former shows the rank of each corresponding parameter in the original parameter array.\n",
    "* `ee.plot_sensitivities()` shows how the parameters are dependent from each and how they influence the results (linear, monotomic, interacting, ...)\n",
    "* `ee.plot_convergence()` shows the convergence of the different runs (i.e. `r`). It shows the average switch in positions for all parameters. Ideally, this is 0 as this means that the parameters do not switch in the significance rankings in between the different runs.\n",
    "* `ee.plot_bootstrap_metrics()` shows boxplots of $\\mu$, $\\mu^*$ and $\\sigma$\n"
   ]
  },
  {
   "cell_type": "code",
   "execution_count": 15,
   "metadata": {},
   "outputs": [],
   "source": [
    "ee.plot_rankings(path+'/plots/rankings')\n",
    "ee.plot_sensitivities(path+'/plots/sensitivities')\n",
    "ee.plot_convergence(path+'/plots/convergence')\n",
    "ee.plot_bootstrap_metrics(path+'/plots/bootstrap')"
   ]
  },
  {
   "cell_type": "code",
   "execution_count": 72,
   "metadata": {},
   "outputs": [
    {
     "data": {
      "text/plain": [
       "array([15, 10, 33, 49, 22,  9, 50, 57, 34,  5, 16, 13, 59, 51, 62, 63, 64, 47, 14, 44, 66, 67, 68,  8, 35, 52, 61, 20,\n",
       "       43, 65, 60, 11,  7, 21, 29, 56, 55, 28, 30, 69, 54, 19, 12,  4,  3,  2,  1, 58, 53, 38, 39, 42, 46, 25, 41, 27,\n",
       "       36, 18,  6, 17, 24, 37, 48, 23, 26, 31, 40, 45, 32])"
      ]
     },
     "execution_count": 72,
     "metadata": {},
     "output_type": "execute_result"
    }
   ],
   "source": [
    "ee.ranking()"
   ]
  },
  {
   "cell_type": "markdown",
   "metadata": {},
   "source": [
    "### Read in the results numerically"
   ]
  },
  {
   "cell_type": "code",
   "execution_count": 12,
   "metadata": {},
   "outputs": [],
   "source": [
    "np.savetxt('ranking_param.csv', ee.ranking())"
   ]
  },
  {
   "cell_type": "code",
   "execution_count": 13,
   "metadata": {},
   "outputs": [],
   "source": [
    "np.savetxt('order_factors_param.csv', ee.order_factors())"
   ]
  },
  {
   "cell_type": "markdown",
   "metadata": {},
   "source": [
    "### Translate the parameters from ee to a params object"
   ]
  },
  {
   "cell_type": "code",
   "execution_count": 73,
   "metadata": {},
   "outputs": [],
   "source": [
    "# ordered factors to a list. First is the most important factor, subsequently followed...\n",
    "absolute_params = v.convert_indices_rel2abs(ee.order_factors())\n",
    "most_important_20 = absolute_params[:20]"
   ]
  },
  {
   "cell_type": "code",
   "execution_count": 75,
   "metadata": {},
   "outputs": [
    {
     "data": {
      "text/plain": [
       "array([46, 45, 44, 43,  9, 58, 32, 23,  5,  1, 31, 42, 11, 18,  0, 10, 59, 57, 41, 27, 33,  4, 63, 60, 53, 64, 55, 37,\n",
       "       34, 38, 65, 68,  2,  8, 24, 56, 61, 49, 50, 66, 54, 51, 28, 19, 67, 52, 17, 62,  3,  6, 13, 25, 48, 40, 36, 35,\n",
       "        7, 47, 12, 30, 26, 14, 15, 16, 29, 20, 21, 22, 39])"
      ]
     },
     "execution_count": 75,
     "metadata": {},
     "output_type": "execute_result"
    }
   ],
   "source": [
    "ee.order_factors()"
   ]
  },
  {
   "cell_type": "code",
   "execution_count": 76,
   "metadata": {},
   "outputs": [
    {
     "data": {
      "text/plain": [
       "array([15, 10, 33, 49, 22,  9, 50, 57, 34,  5, 16, 13, 59, 51, 62, 63, 64, 47, 14, 44, 66, 67, 68,  8, 35, 52, 61, 20,\n",
       "       43, 65, 60, 11,  7, 21, 29, 56, 55, 28, 30, 69, 54, 19, 12,  4,  3,  2,  1, 58, 53, 38, 39, 42, 46, 25, 41, 27,\n",
       "       36, 18,  6, 17, 24, 37, 48, 23, 26, 31, 40, 45, 32])"
      ]
     },
     "execution_count": 76,
     "metadata": {},
     "output_type": "execute_result"
    }
   ],
   "source": [
    "ee.ranking()"
   ]
  },
  {
   "cell_type": "code",
   "execution_count": 92,
   "metadata": {},
   "outputs": [],
   "source": [
    "# Get the params object\n",
    "with open(os.path.join(path, 'reax_params.pkl'), 'rb') as f:\n",
    "    parameters = pkl.load(f)"
   ]
  },
  {
   "cell_type": "code",
   "execution_count": 93,
   "metadata": {},
   "outputs": [],
   "source": [
    "# Now we can activate only the most significant parameters\n",
    "\n",
    "# deactivate everything\n",
    "for param in parameters:\n",
    "    param.is_active = False\n",
    "\n",
    "# Activate the 20 most important ones\n",
    "for param in absolute_params[:20]:\n",
    "    parameters[param].is_active = True"
   ]
  },
  {
   "cell_type": "code",
   "execution_count": 94,
   "metadata": {},
   "outputs": [
    {
     "data": {
      "text/plain": [
       "20"
      ]
     },
     "execution_count": 94,
     "metadata": {},
     "output_type": "execute_result"
    }
   ],
   "source": [
    "# Assure only 20 parameters are active\n",
    "len(parameters.active)"
   ]
  },
  {
   "cell_type": "code",
   "execution_count": 105,
   "metadata": {},
   "outputs": [
    {
     "name": "stdout",
     "output_type": "stream",
     "text": [
      "0 & 1788 & Al.O:r_0^sigma;;2;;Sigma bond length \\\\\n",
      "1 & 1787 & Al.O:alpha_ij;;23a;;VdW parameter \\\\\n",
      "2 & 1786 & Al.O:r_vdW;;23a;;VdW radius \\\\\n",
      "3 & 1785 & Al.O:D_ij;;23a;;VdW energy \\\\\n",
      "4 & 128 & O:p_val3;;13b,13a;;Valence angle parameter \\\\\n",
      "5 & 2636 & Al.O.Al:p_val4;;13b;;Valence angle parameter \\\\\n",
      "6 & 1428 & Al.O:p_bo2;;2;;Sigma bond order \\\\\n",
      "7 & 1415 & Al.O:D_e^sigma;;6,11a;;Sigma-bond dissociation energy \\\\\n",
      "8 & 123 & O:p_boc3;;4e,f;;Bond order correction \\\\\n",
      "9 & 109 & O:r_0^pi;;2;;Pi bond covalent radius \\\\\n",
      "10 & 1427 & Al.O:p_bo1;;2;;Sigma bond order \\\\\n",
      "11 & 1556 & Al.Al:p_bo2;;2;;Sigma bond order \\\\\n",
      "12 & 423 & Al:r_0^sigma;;2;;Sigma bond covalent radius \\\\\n",
      "13 & 448 & Al:p_val3;;13b,13a;;Valence angle parameter \\\\\n",
      "14 & 103 & O:r_0^sigma;;2;;Sigma bond covalent radius \\\\\n",
      "15 & 131 & O:p_val5;;13b;;Valence angle parameter \\\\\n",
      "16 & 2651 & O.Al.O:Theta_0,0;;13g;;180o-(equilibrium angle) \\\\\n",
      "17 & 2634 & Al.O.Al:p_val7;;13c;;Undercoordination \\\\\n",
      "18 & 1555 & Al.Al:p_bo1;;2;;Sigma bond order \\\\\n",
      "19 & 1422 & Al.O:p_ovun1;;11a;;Overcoordination penalty \\\\\n",
      "20 & 1543 & Al.Al:D_e^sigma;;6,11a;;Sigma-bond dissociation energy \\\\\n",
      "21 & 122 & O:p_boc4;;4e,f;;Bond order correction \\\\\n",
      "22 & 2657 & O.Al.O:p_val4;;13b;;Valence angle parameter \\\\\n",
      "23 & 2652 & O.Al.O:p_val1;;13a;;Valence angle parameter \\\\\n",
      "24 & 2629 & Al.O.O:p_val4;;13b;;Valence angle parameter \\\\\n",
      "25 & 2658 & Al.Al.O:Theta_0,0;;13g;;180o-(equilibrium angle) \\\\\n",
      "26 & 2631 & Al.O.Al:p_val1;;13a;;Valence angle parameter \\\\\n",
      "27 & 1550 & Al.Al:p_ovun1;;11a;;Overcoordination penalty \\\\\n",
      "28 & 1546 & Al.Al:p_be1;;6;;Bond energy parameter \\\\\n",
      "29 & 1551 & Al.Al:p_be2;;6;;Bond energy parameter \\\\\n",
      "30 & 2659 & Al.Al.O:p_val1;;13a;;Valence angle parameter \\\\\n",
      "31 & 2664 & Al.Al.O:p_val4;;13b;;Valence angle parameter \\\\\n",
      "32 & 114 & O:p_ovun5;;12;;Undercoordination energy \\\\\n",
      "33 & 127 & O:p_ovun2;;12;;Valence angle parameter \\\\\n",
      "34 & 1418 & Al.O:p_be1;;6;;Bond energy parameter \\\\\n",
      "35 & 2632 & Al.O.Al:p_val2;;13a;;Valence angle parameter \\\\\n",
      "36 & 2653 & O.Al.O:p_val2;;13a;;Valence angle parameter \\\\\n",
      "37 & 2623 & Al.O.O:Theta_0,0;;13g;;180o-(equilibrium angle) \\\\\n",
      "38 & 2624 & Al.O.O:p_val1;;13a;;Valence angle parameter \\\\\n",
      "39 & 2660 & Al.Al.O:p_val2;;13a;;Valence angle parameter \\\\\n",
      "40 & 2630 & Al.O.Al:Theta_0,0;;13g;;180o-(equilibrium angle) \\\\\n",
      "41 & 2625 & Al.O.O:p_val2;;13a;;Valence angle parameter \\\\\n",
      "42 & 1423 & Al.O:p_be2;;6;;Bond energy parameter \\\\\n",
      "43 & 451 & Al:p_val5;;13b;;Valence angle parameter \\\\\n",
      "44 & 2662 & Al.Al.O:p_val7;;13c;;Undercoordination \\\\\n",
      "45 & 2627 & Al.O.O:p_val7;;13c;;Undercoordination \\\\\n",
      "46 & 447 & Al:p_ovun2;;12;;Valence angle parameter \\\\\n",
      "47 & 2655 & O.Al.O:p_val7;;13c;;Undercoordination \\\\\n",
      "48 & 120 & O:p_lp2;;10;;Lone pair energy \\\\\n",
      "49 & 124 & O:p_boc5;;4e,f;;Bond order correction \\\\\n",
      "50 & 434 & Al:p_ovun5;;12;;Undercoordination energy \\\\\n",
      "51 & 1419 & Al.O:p_bo5;;2;;Double pi bond parameter \\\\\n",
      "52 & 1790 & Al.O:r_0^pipi;;2;;PiPi bond length \\\\\n",
      "53 & 1553 & Al.Al:p_bo4;;2;;Pi bond order parameter \\\\\n",
      "54 & 1549 & Al.Al:p_bo6;;2;;Double pi bond order \\\\\n",
      "55 & 1547 & Al.Al:p_bo5;;2;;Double pi bond parameter \\\\\n",
      "56 & 125 & O:C_i;;25;;Atomic softness cutoff parameter \\\\\n",
      "57 & 1789 & Al.O:r_0^pi;;2;;Pi bond length \\\\\n",
      "58 & 429 & Al:r_0^pi;;2;;Pi bond covalent radius \\\\\n",
      "59 & 1425 & Al.O:p_bo4;;2;;Pi bond order parameter \\\\\n",
      "60 & 1421 & Al.O:p_bo6;;2;;Double pi bond order \\\\\n",
      "61 & 442 & Al:p_boc4;;4e,f;;Bond order correction \\\\\n",
      "62 & 443 & Al:p_boc3;;4e,f;;Bond order correction \\\\\n",
      "63 & 445 & Al:C_i;;25;;Atomic softness cutoff parameter \\\\\n",
      "64 & 1424 & Al.O:p_bo3;;2;;Pi bond order parameter \\\\\n",
      "65 & 452 & Al:p_c1;;23c;;Inner wall vdW repulsion parameter \\\\\n",
      "66 & 453 & Al:p_c2;;23c;;Inner wall vdW repulsion parameter \\\\\n",
      "67 & 454 & Al:p_c3;;23c;;Inner wall vdW repulsion parameter \\\\\n",
      "68 & 1552 & Al.Al:p_bo3;;2;;Pi bond order parameter \\\\\n"
     ]
    }
   ],
   "source": [
    "for i, x in enumerate(absolute_params):\n",
    "    name = parameters[x].name\n",
    "    newname=name.replace('_')\n",
    "    print(r'{} & {} & {} \\\\'.format(i,x, parameters[x].name))"
   ]
  },
  {
   "cell_type": "code",
   "execution_count": 24,
   "metadata": {},
   "outputs": [],
   "source": [
    "# Store the updated parameters file again\n",
    "with open(os.path.join(path, 'reax_params.pkl'), 'wb') as f:\n",
    "    pkl.dump(parameters, f)"
   ]
  },
  {
   "cell_type": "code",
   "execution_count": 26,
   "metadata": {},
   "outputs": [],
   "source": [
    "f_traj_1000iter = os.path.join(path, 'trajectory_40_1000iter.dill')\n",
    "\n",
    "with open(f_traj_1000iter, 'rb') as f:\n",
    "    f1000iter = dill.load(f)"
   ]
  },
  {
   "cell_type": "code",
   "execution_count": 36,
   "metadata": {},
   "outputs": [
    {
     "data": {
      "text/plain": [
       "array([3.36433627e+07, 5.34492797e+07, 1.33008124e+07, 3.94399213e+05, 2.37349047e+07, 5.57376431e+07, 4.91220124e+04,\n",
       "       0.00000000e+00, 1.26564510e+07, 7.88751859e+07, 3.27265354e+07, 3.99559975e+07, 0.00000000e+00, 1.53783984e+04,\n",
       "       0.00000000e+00, 0.00000000e+00, 0.00000000e+00, 5.84143121e+05, 3.93647138e+07, 2.20127000e+06, 0.00000000e+00,\n",
       "       0.00000000e+00, 0.00000000e+00, 6.23238919e+07, 1.16296782e+07, 0.00000000e+00, 0.00000000e+00, 2.83028554e+07,\n",
       "       2.46590943e+06, 0.00000000e+00, 0.00000000e+00, 4.63165333e+07, 6.27367172e+07, 2.55600098e+07, 1.72732162e+07,\n",
       "       0.00000000e+00, 0.00000000e+00, 1.84348220e+07, 1.64437339e+07, 0.00000000e+00, 0.00000000e+00, 2.94761338e+07,\n",
       "       4.51232769e+07, 8.49769263e+07, 1.18809846e+08, 1.58801641e+08, 4.40394408e+08, 0.00000000e+00, 0.00000000e+00,\n",
       "       8.20422611e+06, 6.92703883e+06, 3.92401344e+06, 6.20075929e+05, 2.07598861e+07, 5.70039016e+06, 1.86019795e+07,\n",
       "       1.14978418e+07, 3.12666318e+07, 6.54640338e+07, 3.24228170e+07, 2.17818712e+07, 8.53250466e+06, 4.11890811e+05,\n",
       "       2.27025771e+07, 2.02582005e+07, 1.47481028e+07, 6.07363583e+06, 9.03686211e+05, 1.41073660e+07])"
      ]
     },
     "execution_count": 36,
     "metadata": {},
     "output_type": "execute_result"
    }
   ],
   "source": [
    "ee.mu_star"
   ]
  },
  {
   "cell_type": "code",
   "execution_count": 38,
   "metadata": {},
   "outputs": [
    {
     "data": {
      "text/plain": [
       "array([46, 45, 44, 43,  9, 58, 32, 23,  5,  1, 31, 42, 11, 18,  0, 10, 59, 57, 41, 27, 33,  4, 63, 60, 53, 64, 55, 37,\n",
       "       34, 38, 65, 68,  2,  8, 24, 56, 61, 49, 50, 66, 54, 51, 28, 19, 67, 52, 17, 62,  3,  6, 13, 25, 48, 40, 36, 35,\n",
       "        7, 47, 12, 30, 26, 14, 15, 16, 29, 20, 21, 22, 39])"
      ]
     },
     "execution_count": 38,
     "metadata": {},
     "output_type": "execute_result"
    }
   ],
   "source": [
    "ee.order_factors()"
   ]
  },
  {
   "cell_type": "markdown",
   "metadata": {},
   "source": [
    "## Generate the plot"
   ]
  },
  {
   "cell_type": "code",
   "execution_count": 84,
   "metadata": {},
   "outputs": [],
   "source": [
    "data = ee.mu_star\n",
    "data.sort()\n",
    "\n",
    "labels = np.flip(absolute_params)"
   ]
  },
  {
   "cell_type": "code",
   "execution_count": 88,
   "metadata": {},
   "outputs": [
    {
     "data": {
      "image/png": "[encoded data removed]",
      "text/plain": [
       "<Figure size 648x216 with 1 Axes>"
      ]
     },
     "metadata": {
      "needs_background": "light"
     },
     "output_type": "display_data"
    }
   ],
   "source": [
    "plt.rcParams.update({'font.size': 13})\n",
    "fig, ax = plt.subplots(figsize=(9,3))\n",
    "x = np.arange(len(data))\n",
    "ax.bar(x=x, height=data)\n",
    "ax.set_ylabel('$\\mu^*$')\n",
    "ax.set_xlabel('parameter')\n",
    "ax.set_xticks(x)\n",
    "ax.set_xticklabels(labels, rotation=90)\n",
    "plt.tight_layout()\n",
    "fig.savefig('ranking.png', dpi=300)"
   ]
  },
  {
   "cell_type": "code",
   "execution_count": 89,
   "metadata": {},
   "outputs": [
    {
     "data": {
      "text/plain": [
       "array([1552,  454,  453,  452, 1424,  445,  443,  442, 1421, 1425,  429, 1789,  125, 1547, 1549, 1553, 1790, 1419,\n",
       "        434,  124,  120, 2655,  447, 2627, 2662,  451, 1423, 2625, 2630, 2660, 2624, 2623, 2653, 2632, 1418,  127,\n",
       "        114, 2664, 2659, 1551, 1546, 1550, 2631, 2658, 2629, 2652, 2657,  122, 1543, 1422, 1555, 2634, 2651,  131,\n",
       "        103,  448,  423, 1556, 1427,  109,  123, 1415, 1428, 2636,  128, 1785, 1786, 1787, 1788])"
      ]
     },
     "execution_count": 89,
     "metadata": {},
     "output_type": "execute_result"
    }
   ],
   "source": [
    "labels"
   ]
  },
  {
   "cell_type": "code",
   "execution_count": null,
   "metadata": {},
   "outputs": [],
   "source": []
  }
 ],
 "metadata": {
  "kernelspec": {
   "display_name": "AMS2021.2.venv",
   "language": "python",
   "name": "ams2021.2.venv"
  },
  "language_info": {
   "codemirror_mode": {
    "name": "ipython",
    "version": 3
   },
   "file_extension": ".py",
   "mimetype": "text/x-python",
   "name": "python",
   "nbconvert_exporter": "python",
   "pygments_lexer": "ipython3",
   "version": "3.6.9"
  }
 },
 "nbformat": 4,
 "nbformat_minor": 4
}
